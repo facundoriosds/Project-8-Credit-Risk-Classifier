{
 "cells": [
  {
   "cell_type": "markdown",
   "id": "5f795d91-36f8-4ce3-8e0d-679972c90457",
   "metadata": {
    "tags": []
   },
   "source": [
    "## Project 8 - Credit Risk - Part 1"
   ]
  },
  {
   "cell_type": "markdown",
   "id": "15729cef",
   "metadata": {
    "tags": []
   },
   "source": [
    "### Notebook Content\n",
    "\n",
    "1. Exploratory Data Analysis\n",
    "2. Data Preparation"
   ]
  },
  {
   "cell_type": "markdown",
   "id": "7db2fbfe",
   "metadata": {
    "tags": []
   },
   "source": [
    "## 1. Exploratory Data Analysis \n",
    "---\n",
    "\n"
   ]
  },
  {
   "cell_type": "markdown",
   "id": "000d927a-a9fd-4d95-967f-6a796159b3a7",
   "metadata": {},
   "source": [
    "Import libraries:"
   ]
  },
  {
   "cell_type": "code",
   "execution_count": 1,
   "id": "bc82d7d0",
   "metadata": {},
   "outputs": [],
   "source": [
    "import pandas as pd\n",
    "import matplotlib.pyplot as plt\n",
    "import seaborn as sns\n",
    "\n",
    "from sklearn.model_selection import train_test_split\n",
    "from sklearn.ensemble import GradientBoostingClassifier\n",
    "from sklearn.metrics import roc_auc_score\n",
    "from sklearn.pipeline import Pipeline\n",
    "\n",
    "import scipy.stats as stats\n",
    "from feature_engine import imputation as mdi        \n",
    "from feature_engine import discretisation as dsc\n",
    "from feature_engine import encoding as ce\n",
    "from feature_engine.outliers import OutlierTrimmer"
   ]
  },
  {
   "cell_type": "markdown",
   "id": "bf1c5280-0259-48b0-8e3f-5125bf616702",
   "metadata": {},
   "source": [
    "Import dataset:"
   ]
  },
  {
   "cell_type": "code",
   "execution_count": 6,
   "id": "6bb2fdf2-ff44-4cb5-89cc-09f1abcb365d",
   "metadata": {},
   "outputs": [],
   "source": [
    "data = pd.read_csv('dataset/german_credit_data_risk.csv') "
   ]
  },
  {
   "cell_type": "code",
   "execution_count": 9,
   "id": "f95848b4-23f4-48fb-92ad-0be596ab2552",
   "metadata": {},
   "outputs": [
    {
     "data": {
      "text/html": [
       "<div>\n",
       "<style scoped>\n",
       "    .dataframe tbody tr th:only-of-type {\n",
       "        vertical-align: middle;\n",
       "    }\n",
       "\n",
       "    .dataframe tbody tr th {\n",
       "        vertical-align: top;\n",
       "    }\n",
       "\n",
       "    .dataframe thead th {\n",
       "        text-align: right;\n",
       "    }\n",
       "</style>\n",
       "<table border=\"1\" class=\"dataframe\">\n",
       "  <thead>\n",
       "    <tr style=\"text-align: right;\">\n",
       "      <th></th>\n",
       "      <th>Unnamed: 0</th>\n",
       "      <th>Age</th>\n",
       "      <th>Sex</th>\n",
       "      <th>Job</th>\n",
       "      <th>Housing</th>\n",
       "      <th>Saving accounts</th>\n",
       "      <th>Checking account</th>\n",
       "      <th>Credit amount</th>\n",
       "      <th>Duration</th>\n",
       "      <th>Purpose</th>\n",
       "      <th>Risk</th>\n",
       "    </tr>\n",
       "  </thead>\n",
       "  <tbody>\n",
       "    <tr>\n",
       "      <th>0</th>\n",
       "      <td>0</td>\n",
       "      <td>67</td>\n",
       "      <td>male</td>\n",
       "      <td>2</td>\n",
       "      <td>own</td>\n",
       "      <td>NaN</td>\n",
       "      <td>little</td>\n",
       "      <td>1169</td>\n",
       "      <td>6</td>\n",
       "      <td>radio/TV</td>\n",
       "      <td>good</td>\n",
       "    </tr>\n",
       "    <tr>\n",
       "      <th>1</th>\n",
       "      <td>1</td>\n",
       "      <td>22</td>\n",
       "      <td>female</td>\n",
       "      <td>2</td>\n",
       "      <td>own</td>\n",
       "      <td>little</td>\n",
       "      <td>moderate</td>\n",
       "      <td>5951</td>\n",
       "      <td>48</td>\n",
       "      <td>radio/TV</td>\n",
       "      <td>bad</td>\n",
       "    </tr>\n",
       "  </tbody>\n",
       "</table>\n",
       "</div>"
      ],
      "text/plain": [
       "   Unnamed: 0  Age     Sex  Job Housing Saving accounts Checking account  \\\n",
       "0           0   67    male    2     own             NaN           little   \n",
       "1           1   22  female    2     own          little         moderate   \n",
       "\n",
       "   Credit amount  Duration   Purpose  Risk  \n",
       "0           1169         6  radio/TV  good  \n",
       "1           5951        48  radio/TV   bad  "
      ]
     },
     "execution_count": 9,
     "metadata": {},
     "output_type": "execute_result"
    }
   ],
   "source": [
    "data.head(2)"
   ]
  },
  {
   "cell_type": "markdown",
   "id": "cdce1a23-3989-4f3d-9ff2-be002f8b1564",
   "metadata": {},
   "source": [
    "We'll start deleting unusefull columns and changing our target column categories names"
   ]
  },
  {
   "cell_type": "code",
   "execution_count": 7,
   "id": "69641eb2-0701-4587-9132-ff466edc3798",
   "metadata": {},
   "outputs": [],
   "source": [
    "data.drop(['Unnamed: 0'], axis=1, inplace=True)"
   ]
  },
  {
   "cell_type": "code",
   "execution_count": 8,
   "id": "b08aa1ab-fd8b-40a9-8a41-72ee67009e0c",
   "metadata": {},
   "outputs": [],
   "source": [
    "data['Risk'] = data['Risk'].map({'good': 0, 'bad': 1})"
   ]
  },
  {
   "cell_type": "markdown",
   "id": "4f472556-d18e-4cfd-8d9e-952352ee6ec5",
   "metadata": {},
   "source": [
    "Our dataset now looks like this:"
   ]
  },
  {
   "cell_type": "code",
   "execution_count": 9,
   "id": "6349114a-08d0-46b7-9cef-9170ae28f7c9",
   "metadata": {
    "tags": []
   },
   "outputs": [
    {
     "data": {
      "text/html": [
       "<div>\n",
       "<style scoped>\n",
       "    .dataframe tbody tr th:only-of-type {\n",
       "        vertical-align: middle;\n",
       "    }\n",
       "\n",
       "    .dataframe tbody tr th {\n",
       "        vertical-align: top;\n",
       "    }\n",
       "\n",
       "    .dataframe thead th {\n",
       "        text-align: right;\n",
       "    }\n",
       "</style>\n",
       "<table border=\"1\" class=\"dataframe\">\n",
       "  <thead>\n",
       "    <tr style=\"text-align: right;\">\n",
       "      <th></th>\n",
       "      <th>Age</th>\n",
       "      <th>Sex</th>\n",
       "      <th>Job</th>\n",
       "      <th>Housing</th>\n",
       "      <th>Saving accounts</th>\n",
       "      <th>Checking account</th>\n",
       "      <th>Credit amount</th>\n",
       "      <th>Duration</th>\n",
       "      <th>Purpose</th>\n",
       "      <th>Risk</th>\n",
       "    </tr>\n",
       "  </thead>\n",
       "  <tbody>\n",
       "    <tr>\n",
       "      <th>0</th>\n",
       "      <td>67</td>\n",
       "      <td>male</td>\n",
       "      <td>2</td>\n",
       "      <td>own</td>\n",
       "      <td>NaN</td>\n",
       "      <td>little</td>\n",
       "      <td>1169</td>\n",
       "      <td>6</td>\n",
       "      <td>radio/TV</td>\n",
       "      <td>0</td>\n",
       "    </tr>\n",
       "    <tr>\n",
       "      <th>1</th>\n",
       "      <td>22</td>\n",
       "      <td>female</td>\n",
       "      <td>2</td>\n",
       "      <td>own</td>\n",
       "      <td>little</td>\n",
       "      <td>moderate</td>\n",
       "      <td>5951</td>\n",
       "      <td>48</td>\n",
       "      <td>radio/TV</td>\n",
       "      <td>1</td>\n",
       "    </tr>\n",
       "    <tr>\n",
       "      <th>2</th>\n",
       "      <td>49</td>\n",
       "      <td>male</td>\n",
       "      <td>1</td>\n",
       "      <td>own</td>\n",
       "      <td>little</td>\n",
       "      <td>NaN</td>\n",
       "      <td>2096</td>\n",
       "      <td>12</td>\n",
       "      <td>education</td>\n",
       "      <td>0</td>\n",
       "    </tr>\n",
       "    <tr>\n",
       "      <th>3</th>\n",
       "      <td>45</td>\n",
       "      <td>male</td>\n",
       "      <td>2</td>\n",
       "      <td>free</td>\n",
       "      <td>little</td>\n",
       "      <td>little</td>\n",
       "      <td>7882</td>\n",
       "      <td>42</td>\n",
       "      <td>furniture/equipment</td>\n",
       "      <td>0</td>\n",
       "    </tr>\n",
       "    <tr>\n",
       "      <th>4</th>\n",
       "      <td>53</td>\n",
       "      <td>male</td>\n",
       "      <td>2</td>\n",
       "      <td>free</td>\n",
       "      <td>little</td>\n",
       "      <td>little</td>\n",
       "      <td>4870</td>\n",
       "      <td>24</td>\n",
       "      <td>car</td>\n",
       "      <td>1</td>\n",
       "    </tr>\n",
       "  </tbody>\n",
       "</table>\n",
       "</div>"
      ],
      "text/plain": [
       "   Age     Sex  Job Housing Saving accounts Checking account  Credit amount  \\\n",
       "0   67    male    2     own             NaN           little           1169   \n",
       "1   22  female    2     own          little         moderate           5951   \n",
       "2   49    male    1     own          little              NaN           2096   \n",
       "3   45    male    2    free          little           little           7882   \n",
       "4   53    male    2    free          little           little           4870   \n",
       "\n",
       "   Duration              Purpose  Risk  \n",
       "0         6             radio/TV     0  \n",
       "1        48             radio/TV     1  \n",
       "2        12            education     0  \n",
       "3        42  furniture/equipment     0  \n",
       "4        24                  car     1  "
      ]
     },
     "execution_count": 9,
     "metadata": {},
     "output_type": "execute_result"
    }
   ],
   "source": [
    "data.head()"
   ]
  },
  {
   "cell_type": "code",
   "execution_count": 31,
   "id": "62b02df0-bafa-417e-9175-e0adddf3d49e",
   "metadata": {},
   "outputs": [
    {
     "data": {
      "text/html": [
       "<div>\n",
       "<style scoped>\n",
       "    .dataframe tbody tr th:only-of-type {\n",
       "        vertical-align: middle;\n",
       "    }\n",
       "\n",
       "    .dataframe tbody tr th {\n",
       "        vertical-align: top;\n",
       "    }\n",
       "\n",
       "    .dataframe thead th {\n",
       "        text-align: right;\n",
       "    }\n",
       "</style>\n",
       "<table border=\"1\" class=\"dataframe\">\n",
       "  <thead>\n",
       "    <tr style=\"text-align: right;\">\n",
       "      <th></th>\n",
       "      <th>Unnamed: 0</th>\n",
       "      <th>Age</th>\n",
       "      <th>Job</th>\n",
       "      <th>Credit amount</th>\n",
       "      <th>Duration</th>\n",
       "    </tr>\n",
       "  </thead>\n",
       "  <tbody>\n",
       "    <tr>\n",
       "      <th>count</th>\n",
       "      <td>1000.000000</td>\n",
       "      <td>1000.000000</td>\n",
       "      <td>1000.000000</td>\n",
       "      <td>1000.000000</td>\n",
       "      <td>1000.000000</td>\n",
       "    </tr>\n",
       "    <tr>\n",
       "      <th>mean</th>\n",
       "      <td>499.500000</td>\n",
       "      <td>35.546000</td>\n",
       "      <td>1.904000</td>\n",
       "      <td>3271.258000</td>\n",
       "      <td>20.903000</td>\n",
       "    </tr>\n",
       "    <tr>\n",
       "      <th>std</th>\n",
       "      <td>288.819436</td>\n",
       "      <td>11.375469</td>\n",
       "      <td>0.653614</td>\n",
       "      <td>2822.736876</td>\n",
       "      <td>12.058814</td>\n",
       "    </tr>\n",
       "    <tr>\n",
       "      <th>min</th>\n",
       "      <td>0.000000</td>\n",
       "      <td>19.000000</td>\n",
       "      <td>0.000000</td>\n",
       "      <td>250.000000</td>\n",
       "      <td>4.000000</td>\n",
       "    </tr>\n",
       "    <tr>\n",
       "      <th>25%</th>\n",
       "      <td>249.750000</td>\n",
       "      <td>27.000000</td>\n",
       "      <td>2.000000</td>\n",
       "      <td>1365.500000</td>\n",
       "      <td>12.000000</td>\n",
       "    </tr>\n",
       "    <tr>\n",
       "      <th>50%</th>\n",
       "      <td>499.500000</td>\n",
       "      <td>33.000000</td>\n",
       "      <td>2.000000</td>\n",
       "      <td>2319.500000</td>\n",
       "      <td>18.000000</td>\n",
       "    </tr>\n",
       "    <tr>\n",
       "      <th>75%</th>\n",
       "      <td>749.250000</td>\n",
       "      <td>42.000000</td>\n",
       "      <td>2.000000</td>\n",
       "      <td>3972.250000</td>\n",
       "      <td>24.000000</td>\n",
       "    </tr>\n",
       "    <tr>\n",
       "      <th>max</th>\n",
       "      <td>999.000000</td>\n",
       "      <td>75.000000</td>\n",
       "      <td>3.000000</td>\n",
       "      <td>18424.000000</td>\n",
       "      <td>72.000000</td>\n",
       "    </tr>\n",
       "  </tbody>\n",
       "</table>\n",
       "</div>"
      ],
      "text/plain": [
       "        Unnamed: 0          Age          Job  Credit amount     Duration\n",
       "count  1000.000000  1000.000000  1000.000000    1000.000000  1000.000000\n",
       "mean    499.500000    35.546000     1.904000    3271.258000    20.903000\n",
       "std     288.819436    11.375469     0.653614    2822.736876    12.058814\n",
       "min       0.000000    19.000000     0.000000     250.000000     4.000000\n",
       "25%     249.750000    27.000000     2.000000    1365.500000    12.000000\n",
       "50%     499.500000    33.000000     2.000000    2319.500000    18.000000\n",
       "75%     749.250000    42.000000     2.000000    3972.250000    24.000000\n",
       "max     999.000000    75.000000     3.000000   18424.000000    72.000000"
      ]
     },
     "execution_count": 31,
     "metadata": {},
     "output_type": "execute_result"
    }
   ],
   "source": [
    "data.describe()"
   ]
  },
  {
   "cell_type": "code",
   "execution_count": 4,
   "id": "23a2aa2f-e00a-4288-819b-8d27b9e965f9",
   "metadata": {},
   "outputs": [
    {
     "name": "stdout",
     "output_type": "stream",
     "text": [
      "<class 'pandas.core.frame.DataFrame'>\n",
      "RangeIndex: 1000 entries, 0 to 999\n",
      "Data columns (total 10 columns):\n",
      " #   Column            Non-Null Count  Dtype \n",
      "---  ------            --------------  ----- \n",
      " 0   Age               1000 non-null   int64 \n",
      " 1   Sex               1000 non-null   object\n",
      " 2   Job               1000 non-null   int64 \n",
      " 3   Housing           1000 non-null   object\n",
      " 4   Saving accounts   817 non-null    object\n",
      " 5   Checking account  606 non-null    object\n",
      " 6   Credit amount     1000 non-null   int64 \n",
      " 7   Duration          1000 non-null   int64 \n",
      " 8   Purpose           1000 non-null   object\n",
      " 9   Risk              1000 non-null   object\n",
      "dtypes: int64(4), object(6)\n",
      "memory usage: 78.3+ KB\n"
     ]
    }
   ],
   "source": [
    "data.info()"
   ]
  },
  {
   "cell_type": "markdown",
   "id": "563d57d0-246a-48b7-996d-024a9d71b1fb",
   "metadata": {},
   "source": [
    "2 Features, 'Saving accounts' and 'Checking account' have missing values."
   ]
  },
  {
   "cell_type": "markdown",
   "id": "cd1c2774-e0de-41e3-8c92-ff6f117d8bba",
   "metadata": {
    "tags": []
   },
   "source": [
    "### Distribution analysis"
   ]
  },
  {
   "cell_type": "code",
   "execution_count": 43,
   "id": "f3711bed-3b35-4cde-ae0e-814f6ab2a39e",
   "metadata": {},
   "outputs": [],
   "source": [
    "def diagnostic_plots(df, variable):      \n",
    "    plt.figure(figsize=(11, 3))\n",
    "\n",
    "    # histogram\n",
    "    plt.subplot(1, 3, 1)\n",
    "    sns.histplot(df[variable], bins=30)\n",
    "    plt.title('Histogram')\n",
    "\n",
    "    # Q-Q plot\n",
    "    plt.subplot(1, 3, 2)\n",
    "    stats.probplot(df[variable], dist=\"norm\", plot=plt)\n",
    "    plt.ylabel('RM quantiles')\n",
    "\n",
    "    # boxplot\n",
    "    plt.subplot(1, 3, 3)\n",
    "    sns.boxplot(y=df[variable])\n",
    "    plt.title('Boxplot')\n",
    "\n",
    "    plt.show()"
   ]
  },
  {
   "cell_type": "code",
   "execution_count": 44,
   "id": "1b2f8228-8f8b-4c1e-a528-6c53b3cace23",
   "metadata": {},
   "outputs": [
    {
     "data": {
      "image/png": "[encoded data removed]",
      "text/plain": [
       "<Figure size 1100x300 with 3 Axes>"
      ]
     },
     "metadata": {},
     "output_type": "display_data"
    }
   ],
   "source": [
    "diagnostic_plots(data, 'Age')"
   ]
  },
  {
   "cell_type": "code",
   "execution_count": 45,
   "id": "7678cde1-b8e0-4169-8b5a-da526b1eca30",
   "metadata": {},
   "outputs": [
    {
     "data": {
      "image/png": "[encoded data removed]",
      "text/plain": [
       "<Figure size 1100x300 with 3 Axes>"
      ]
     },
     "metadata": {},
     "output_type": "display_data"
    }
   ],
   "source": [
    "diagnostic_plots(data, 'Credit amount')"
   ]
  },
  {
   "cell_type": "code",
   "execution_count": 46,
   "id": "3bcf1ef8-d08e-48f3-afdd-23e80625fecd",
   "metadata": {},
   "outputs": [
    {
     "data": {
      "image/png": "[encoded data removed]",
      "text/plain": [
       "<Figure size 1100x300 with 3 Axes>"
      ]
     },
     "metadata": {},
     "output_type": "display_data"
    }
   ],
   "source": [
    "diagnostic_plots(data, 'Duration')"
   ]
  },
  {
   "cell_type": "markdown",
   "id": "62ee08e7-2794-4da9-9f93-4c13fdc68b18",
   "metadata": {},
   "source": [
    "Numerical variables have skewed distributions."
   ]
  },
  {
   "cell_type": "markdown",
   "id": "4e70e36e-3b56-4842-ad2c-acedb8eb6768",
   "metadata": {
    "tags": []
   },
   "source": [
    "### Missing values instances"
   ]
  },
  {
   "cell_type": "markdown",
   "id": "dc48d88f-3eda-4949-a308-69a324b10142",
   "metadata": {},
   "source": [
    "As we've already seen, 2 Categorical variables have missing values."
   ]
  },
  {
   "cell_type": "code",
   "execution_count": 22,
   "id": "8a833ddd-0ee8-4b47-b809-069f2c37e781",
   "metadata": {},
   "outputs": [
    {
     "data": {
      "text/plain": [
       "Unnamed: 0            0\n",
       "Age                   0\n",
       "Sex                   0\n",
       "Job                   0\n",
       "Housing               0\n",
       "Saving accounts     183\n",
       "Checking account    394\n",
       "Credit amount         0\n",
       "Duration              0\n",
       "Purpose               0\n",
       "dtype: int64"
      ]
     },
     "execution_count": 22,
     "metadata": {},
     "output_type": "execute_result"
    }
   ],
   "source": [
    "data.isnull().sum()"
   ]
  },
  {
   "cell_type": "markdown",
   "id": "5beb1ce1-de98-42ed-91a2-cdb6514a8e8c",
   "metadata": {},
   "source": [
    "### Find numerical variables (continuous, discrete, target)"
   ]
  },
  {
   "cell_type": "code",
   "execution_count": 62,
   "id": "9adc01f3-5af2-45b3-944a-95168835b5bf",
   "metadata": {},
   "outputs": [
    {
     "name": "stdout",
     "output_type": "stream",
     "text": [
      "There are 5 numerical variables:\n"
     ]
    },
    {
     "data": {
      "text/plain": [
       "['Age', 'Job', 'Credit amount', 'Duration', 'Risk']"
      ]
     },
     "execution_count": 62,
     "metadata": {},
     "output_type": "execute_result"
    }
   ],
   "source": [
    "numerical = [var for var in data.columns if data[var].dtype!='O']\n",
    "print('There are {} numerical variables:'.format(len(numerical)))\n",
    "numerical"
   ]
  },
  {
   "cell_type": "markdown",
   "id": "330e2f60-6638-45a7-b1e5-af2a5ecf7d71",
   "metadata": {
    "tags": []
   },
   "source": [
    "### Find discrete variables\n",
    "\n",
    "We will select the ones that contain a finite and small number of distinct values from all the numerical ones:"
   ]
  },
  {
   "cell_type": "code",
   "execution_count": 63,
   "id": "13cd524a-8331-453d-b135-7713144341fc",
   "metadata": {},
   "outputs": [
    {
     "name": "stdout",
     "output_type": "stream",
     "text": [
      "Job values:  [2 1 3 0]\n",
      "Risk values:  [0 1]\n",
      "\n",
      "There are 2 discrete variables\n"
     ]
    }
   ],
   "source": [
    "discrete = []\n",
    "\n",
    "for var in numerical:\n",
    "    if len(data[var].unique()) < 20:\n",
    "        print(var, 'values: ', data[var].unique())\n",
    "        discrete.append(var)\n",
    "print()\n",
    "print('There are {} discrete variables'.format(len(discrete)))"
   ]
  },
  {
   "cell_type": "markdown",
   "id": "1411371a-3584-4bc3-9e7b-a22ee0a46134",
   "metadata": {},
   "source": [
    "### Continuous variables"
   ]
  },
  {
   "cell_type": "code",
   "execution_count": 67,
   "id": "86d46870-e335-4e14-8197-555d2b3b6516",
   "metadata": {},
   "outputs": [
    {
     "name": "stdout",
     "output_type": "stream",
     "text": [
      "There are 3 numerical and continuous variables\n"
     ]
    },
    {
     "data": {
      "text/plain": [
       "['Age', 'Credit amount', 'Duration']"
      ]
     },
     "execution_count": 67,
     "metadata": {},
     "output_type": "execute_result"
    }
   ],
   "source": [
    "continuous = [var for var in numerical if var not in discrete and var not in ['price']]\n",
    "\n",
    "print('There are {} numerical and continuous variables'.format(len(continuous)))\n",
    "continuous"
   ]
  },
  {
   "cell_type": "markdown",
   "id": "cfdd1133-3aab-4b7c-b877-3968c39daccf",
   "metadata": {
    "tags": []
   },
   "source": [
    "### Find categorical variables "
   ]
  },
  {
   "cell_type": "code",
   "execution_count": null,
   "id": "d3f76e45-8fb3-4446-ad66-d6ced5eaf960",
   "metadata": {},
   "outputs": [
    {
     "name": "stdout",
     "output_type": "stream",
     "text": [
      "There are 5 categorical variables:\n"
     ]
    },
    {
     "data": {
      "text/plain": [
       "['Sex', 'Housing', 'Saving accounts', 'Checking account', 'Purpose']"
      ]
     },
     "execution_count": 60,
     "metadata": {},
     "output_type": "execute_result"
    }
   ],
   "source": [
    "categorical = [var for var in data.columns if data[var].dtype=='O']  \n",
    "\n",
    "print('There are {} categorical variables:'.format(len(categorical)))\n",
    "categorical"
   ]
  },
  {
   "cell_type": "markdown",
   "id": "19336079-e325-4c01-bf28-d6835e8c0a78",
   "metadata": {},
   "source": [
    "Categorical variables inspection:"
   ]
  },
  {
   "cell_type": "code",
   "execution_count": 66,
   "id": "9cde556b-126e-4455-856c-09b73173cd42",
   "metadata": {},
   "outputs": [
    {
     "data": {
      "text/html": [
       "<div>\n",
       "<style scoped>\n",
       "    .dataframe tbody tr th:only-of-type {\n",
       "        vertical-align: middle;\n",
       "    }\n",
       "\n",
       "    .dataframe tbody tr th {\n",
       "        vertical-align: top;\n",
       "    }\n",
       "\n",
       "    .dataframe thead th {\n",
       "        text-align: right;\n",
       "    }\n",
       "</style>\n",
       "<table border=\"1\" class=\"dataframe\">\n",
       "  <thead>\n",
       "    <tr style=\"text-align: right;\">\n",
       "      <th></th>\n",
       "      <th>unique</th>\n",
       "    </tr>\n",
       "  </thead>\n",
       "  <tbody>\n",
       "    <tr>\n",
       "      <th>Sex</th>\n",
       "      <td>[male, female]</td>\n",
       "    </tr>\n",
       "    <tr>\n",
       "      <th>Housing</th>\n",
       "      <td>[own, free, rent]</td>\n",
       "    </tr>\n",
       "    <tr>\n",
       "      <th>Saving accounts</th>\n",
       "      <td>[nan, little, quite rich, rich, moderate]</td>\n",
       "    </tr>\n",
       "    <tr>\n",
       "      <th>Checking account</th>\n",
       "      <td>[little, moderate, nan, rich]</td>\n",
       "    </tr>\n",
       "    <tr>\n",
       "      <th>Purpose</th>\n",
       "      <td>[radio/TV, education, furniture/equipment, car, business, domestic appliances, repairs, vacation/others]</td>\n",
       "    </tr>\n",
       "  </tbody>\n",
       "</table>\n",
       "</div>"
      ],
      "text/plain": [
       "                                                                                                                    unique\n",
       "Sex               [male, female]                                                                                          \n",
       "Housing           [own, free, rent]                                                                                       \n",
       "Saving accounts   [nan, little, quite rich, rich, moderate]                                                               \n",
       "Checking account  [little, moderate, nan, rich]                                                                           \n",
       "Purpose           [radio/TV, education, furniture/equipment, car, business, domestic appliances, repairs, vacation/others]"
      ]
     },
     "execution_count": 66,
     "metadata": {},
     "output_type": "execute_result"
    }
   ],
   "source": [
    "pd.set_option('display.max_colwidth', 0)\n",
    "data[categorical].agg(['unique']).transpose()"
   ]
  },
  {
   "cell_type": "markdown",
   "id": "f49cd10f-fbd7-49eb-9cf2-3a2b708746b9",
   "metadata": {},
   "source": [
    "Variable 'Purpose' shows high cardinality."
   ]
  },
  {
   "cell_type": "markdown",
   "id": "470df6a2-e1ee-4358-a266-568a309f646a",
   "metadata": {},
   "source": [
    "## 2. Data Preparation\n",
    "---"
   ]
  },
  {
   "cell_type": "markdown",
   "id": "75f4e21b-0843-4c66-a31e-2f55715178ff",
   "metadata": {},
   "source": [
    "Train Test Split: "
   ]
  },
  {
   "cell_type": "code",
   "execution_count": 74,
   "id": "a7411d50-8b56-4a0e-859f-8dd0cfad59b1",
   "metadata": {},
   "outputs": [],
   "source": [
    "X_train, X_test, y_train, y_test = train_test_split(\n",
    "    data.drop('Risk', axis=1),  \n",
    "    data['Risk'],  \n",
    "    test_size=0.3, \n",
    "    stratify=data['Risk'],\n",
    "    random_state=42)  "
   ]
  },
  {
   "cell_type": "code",
   "execution_count": 75,
   "id": "e929d4cd-2701-47d9-bf98-d18e6d0f6e1c",
   "metadata": {
    "tags": []
   },
   "outputs": [
    {
     "name": "stdout",
     "output_type": "stream",
     "text": [
      "X_train shape: (700, 9), type: <class 'pandas.core.frame.DataFrame'>\n",
      "y_train shape: (700,), type: <class 'pandas.core.series.Series'>\n",
      "X_test shape: (300, 9), type: <class 'pandas.core.frame.DataFrame'>\n",
      "y_test shape: (300,), type: <class 'pandas.core.series.Series'>\n"
     ]
    }
   ],
   "source": [
    "print('X_train shape: {}, type: {}'.format(X_train.shape, type(X_train)))\n",
    "print('y_train shape: {}, type: {}'.format(y_train.shape,type(y_train)))\n",
    "print('X_test shape: {}, type: {}'.format(X_test.shape,type(X_test)))\n",
    "print('y_test shape: {}, type: {}'.format(y_test.shape,type(y_test)))"
   ]
  },
  {
   "cell_type": "markdown",
   "id": "26003b59-8714-4b38-9cc6-91c4031df254",
   "metadata": {},
   "source": [
    "### Missing data imputation "
   ]
  },
  {
   "cell_type": "code",
   "execution_count": 76,
   "id": "7b7c520f-0ce2-4524-b94c-581e31cab253",
   "metadata": {},
   "outputs": [
    {
     "data": {
      "text/plain": [
       "Sex                 0.000000\n",
       "Housing             0.000000\n",
       "Saving accounts     0.177143\n",
       "Checking account    0.394286\n",
       "Purpose             0.000000\n",
       "dtype: float64"
      ]
     },
     "execution_count": 76,
     "metadata": {},
     "output_type": "execute_result"
    }
   ],
   "source": [
    "# categorical\n",
    "X_train.select_dtypes(include='O').isnull().mean()"
   ]
  },
  {
   "cell_type": "code",
   "execution_count": 77,
   "id": "f792f330-2644-4db8-a63e-061bf00a4a18",
   "metadata": {},
   "outputs": [
    {
     "data": {
      "text/plain": [
       "Age              0.0\n",
       "Job              0.0\n",
       "Credit amount    0.0\n",
       "Duration         0.0\n",
       "dtype: float64"
      ]
     },
     "execution_count": 77,
     "metadata": {},
     "output_type": "execute_result"
    }
   ],
   "source": [
    "# numerical\n",
    "X_train.select_dtypes(exclude='O').isnull().mean()"
   ]
  },
  {
   "cell_type": "markdown",
   "id": "c874c2d8-a85c-41a5-9f53-db752ffcf6fe",
   "metadata": {
    "tags": []
   },
   "source": [
    "We will use add missing label imputation as imputation method for our categorical variables.\n",
    "\n",
    "### Categorical encoding and rare labels "
   ]
  },
  {
   "cell_type": "code",
   "execution_count": 80,
   "id": "39d5a503-a077-4388-b3de-83ce5a5948e7",
   "metadata": {},
   "outputs": [
    {
     "data": {
      "text/plain": [
       "Sex                 2\n",
       "Housing             3\n",
       "Saving accounts     4\n",
       "Checking account    3\n",
       "Purpose             8\n",
       "dtype: int64"
      ]
     },
     "execution_count": 80,
     "metadata": {},
     "output_type": "execute_result"
    }
   ],
   "source": [
    "# check cardinality again\n",
    "X_train[['Sex', 'Housing', 'Saving accounts', 'Checking account', 'Purpose']].nunique()"
   ]
  },
  {
   "cell_type": "code",
   "execution_count": 79,
   "id": "9db08b76-e577-4551-a71b-411e40204ea0",
   "metadata": {
    "scrolled": true
   },
   "outputs": [
    {
     "data": {
      "text/plain": [
       "vacation/others        0.008571\n",
       "domestic appliances    0.014286\n",
       "repairs                0.022857\n",
       "education              0.057143\n",
       "business               0.098571\n",
       "furniture/equipment    0.180000\n",
       "radio/TV               0.265714\n",
       "car                    0.352857\n",
       "Name: Purpose, dtype: float64"
      ]
     },
     "execution_count": 79,
     "metadata": {},
     "output_type": "execute_result"
    }
   ],
   "source": [
    "# check variable frequency\n",
    "var = 'Purpose'\n",
    "X_train[var].value_counts(normalize=True).sort_values()"
   ]
  },
  {
   "cell_type": "markdown",
   "id": "e92262ee-fcf7-4533-8a6d-e787b658d227",
   "metadata": {},
   "source": [
    "Categories \"vacation/others\", \"domestic appliances\" and \"repairs\" appear only in few observations, so I will replace them into rare."
   ]
  },
  {
   "cell_type": "markdown",
   "id": "8eadc593-ccb0-48cc-9d4d-34f775d15c2d",
   "metadata": {},
   "source": [
    "### Variables transformation "
   ]
  },
  {
   "cell_type": "markdown",
   "id": "9513d23d-6d7a-4ece-8611-de0d48410908",
   "metadata": {},
   "source": [
    "Pipeline:"
   ]
  },
  {
   "cell_type": "code",
   "execution_count": 97,
   "id": "a2a2899c-fa63-44c4-aaa5-c16b9b61f238",
   "metadata": {},
   "outputs": [],
   "source": [
    "risk_pipe = Pipeline([\n",
    "    \n",
    "    ('imputer_cat', mdi.CategoricalImputer(variables=['Saving accounts', 'Checking account'])),\n",
    "\n",
    "    ('encoder_rare_label', ce.RareLabelEncoder(tol=0.01, n_categories=6,\n",
    "                                               variables=['Purpose'])),\n",
    "    \n",
    "    ('categorical_encoder', ce.OrdinalEncoder(encoding_method='ordered',\n",
    "                                              variables=['Sex', 'Housing', 'Saving accounts', 'Checking account', 'Purpose']))\n",
    "])"
   ]
  },
  {
   "cell_type": "code",
   "execution_count": 98,
   "id": "e665395f-6140-4ce0-82f0-518f47bca8ed",
   "metadata": {},
   "outputs": [
    {
     "data": {
      "text/html": [
       "<style>#sk-container-id-4 {color: black;background-color: white;}#sk-container-id-4 pre{padding: 0;}#sk-container-id-4 div.sk-toggleable {background-color: white;}#sk-container-id-4 label.sk-toggleable__label {cursor: pointer;display: block;width: 100%;margin-bottom: 0;padding: 0.3em;box-sizing: border-box;text-align: center;}#sk-container-id-4 label.sk-toggleable__label-arrow:before {content: \"▸\";float: left;margin-right: 0.25em;color: #696969;}#sk-container-id-4 label.sk-toggleable__label-arrow:hover:before {color: black;}#sk-container-id-4 div.sk-estimator:hover label.sk-toggleable__label-arrow:before {color: black;}#sk-container-id-4 div.sk-toggleable__content {max-height: 0;max-width: 0;overflow: hidden;text-align: left;background-color: #f0f8ff;}#sk-container-id-4 div.sk-toggleable__content pre {margin: 0.2em;color: black;border-radius: 0.25em;background-color: #f0f8ff;}#sk-container-id-4 input.sk-toggleable__control:checked~div.sk-toggleable__content {max-height: 200px;max-width: 100%;overflow: auto;}#sk-container-id-4 input.sk-toggleable__control:checked~label.sk-toggleable__label-arrow:before {content: \"▾\";}#sk-container-id-4 div.sk-estimator input.sk-toggleable__control:checked~label.sk-toggleable__label {background-color: #d4ebff;}#sk-container-id-4 div.sk-label input.sk-toggleable__control:checked~label.sk-toggleable__label {background-color: #d4ebff;}#sk-container-id-4 input.sk-hidden--visually {border: 0;clip: rect(1px 1px 1px 1px);clip: rect(1px, 1px, 1px, 1px);height: 1px;margin: -1px;overflow: hidden;padding: 0;position: absolute;width: 1px;}#sk-container-id-4 div.sk-estimator {font-family: monospace;background-color: #f0f8ff;border: 1px dotted black;border-radius: 0.25em;box-sizing: border-box;margin-bottom: 0.5em;}#sk-container-id-4 div.sk-estimator:hover {background-color: #d4ebff;}#sk-container-id-4 div.sk-parallel-item::after {content: \"\";width: 100%;border-bottom: 1px solid gray;flex-grow: 1;}#sk-container-id-4 div.sk-label:hover label.sk-toggleable__label {background-color: #d4ebff;}#sk-container-id-4 div.sk-serial::before {content: \"\";position: absolute;border-left: 1px solid gray;box-sizing: border-box;top: 0;bottom: 0;left: 50%;z-index: 0;}#sk-container-id-4 div.sk-serial {display: flex;flex-direction: column;align-items: center;background-color: white;padding-right: 0.2em;padding-left: 0.2em;position: relative;}#sk-container-id-4 div.sk-item {position: relative;z-index: 1;}#sk-container-id-4 div.sk-parallel {display: flex;align-items: stretch;justify-content: center;background-color: white;position: relative;}#sk-container-id-4 div.sk-item::before, #sk-container-id-4 div.sk-parallel-item::before {content: \"\";position: absolute;border-left: 1px solid gray;box-sizing: border-box;top: 0;bottom: 0;left: 50%;z-index: -1;}#sk-container-id-4 div.sk-parallel-item {display: flex;flex-direction: column;z-index: 1;position: relative;background-color: white;}#sk-container-id-4 div.sk-parallel-item:first-child::after {align-self: flex-end;width: 50%;}#sk-container-id-4 div.sk-parallel-item:last-child::after {align-self: flex-start;width: 50%;}#sk-container-id-4 div.sk-parallel-item:only-child::after {width: 0;}#sk-container-id-4 div.sk-dashed-wrapped {border: 1px dashed gray;margin: 0 0.4em 0.5em 0.4em;box-sizing: border-box;padding-bottom: 0.4em;background-color: white;}#sk-container-id-4 div.sk-label label {font-family: monospace;font-weight: bold;display: inline-block;line-height: 1.2em;}#sk-container-id-4 div.sk-label-container {text-align: center;}#sk-container-id-4 div.sk-container {/* jupyter's `normalize.less` sets `[hidden] { display: none; }` but bootstrap.min.css set `[hidden] { display: none !important; }` so we also need the `!important` here to be able to override the default hidden behavior on the sphinx rendered scikit-learn.org. See: https://github.com/scikit-learn/scikit-learn/issues/21755 */display: inline-block !important;position: relative;}#sk-container-id-4 div.sk-text-repr-fallback {display: none;}</style><div id=\"sk-container-id-4\" class=\"sk-top-container\"><div class=\"sk-text-repr-fallback\"><pre>Pipeline(steps=[(&#x27;imputer_cat&#x27;,\n",
       "                 CategoricalImputer(variables=[&#x27;Saving accounts&#x27;,\n",
       "                                               &#x27;Checking account&#x27;])),\n",
       "                (&#x27;encoder_rare_label&#x27;,\n",
       "                 RareLabelEncoder(n_categories=6, tol=0.01,\n",
       "                                  variables=[&#x27;Purpose&#x27;])),\n",
       "                (&#x27;categorical_encoder&#x27;,\n",
       "                 OrdinalEncoder(variables=[&#x27;Sex&#x27;, &#x27;Housing&#x27;, &#x27;Saving accounts&#x27;,\n",
       "                                           &#x27;Checking account&#x27;, &#x27;Purpose&#x27;]))])</pre><b>In a Jupyter environment, please rerun this cell to show the HTML representation or trust the notebook. <br />On GitHub, the HTML representation is unable to render, please try loading this page with nbviewer.org.</b></div><div class=\"sk-container\" hidden><div class=\"sk-item sk-dashed-wrapped\"><div class=\"sk-label-container\"><div class=\"sk-label sk-toggleable\"><input class=\"sk-toggleable__control sk-hidden--visually\" id=\"sk-estimator-id-15\" type=\"checkbox\" ><label for=\"sk-estimator-id-15\" class=\"sk-toggleable__label sk-toggleable__label-arrow\">Pipeline</label><div class=\"sk-toggleable__content\"><pre>Pipeline(steps=[(&#x27;imputer_cat&#x27;,\n",
       "                 CategoricalImputer(variables=[&#x27;Saving accounts&#x27;,\n",
       "                                               &#x27;Checking account&#x27;])),\n",
       "                (&#x27;encoder_rare_label&#x27;,\n",
       "                 RareLabelEncoder(n_categories=6, tol=0.01,\n",
       "                                  variables=[&#x27;Purpose&#x27;])),\n",
       "                (&#x27;categorical_encoder&#x27;,\n",
       "                 OrdinalEncoder(variables=[&#x27;Sex&#x27;, &#x27;Housing&#x27;, &#x27;Saving accounts&#x27;,\n",
       "                                           &#x27;Checking account&#x27;, &#x27;Purpose&#x27;]))])</pre></div></div></div><div class=\"sk-serial\"><div class=\"sk-item\"><div class=\"sk-estimator sk-toggleable\"><input class=\"sk-toggleable__control sk-hidden--visually\" id=\"sk-estimator-id-16\" type=\"checkbox\" ><label for=\"sk-estimator-id-16\" class=\"sk-toggleable__label sk-toggleable__label-arrow\">CategoricalImputer</label><div class=\"sk-toggleable__content\"><pre>CategoricalImputer(variables=[&#x27;Saving accounts&#x27;, &#x27;Checking account&#x27;])</pre></div></div></div><div class=\"sk-item\"><div class=\"sk-estimator sk-toggleable\"><input class=\"sk-toggleable__control sk-hidden--visually\" id=\"sk-estimator-id-17\" type=\"checkbox\" ><label for=\"sk-estimator-id-17\" class=\"sk-toggleable__label sk-toggleable__label-arrow\">RareLabelEncoder</label><div class=\"sk-toggleable__content\"><pre>RareLabelEncoder(n_categories=6, tol=0.01, variables=[&#x27;Purpose&#x27;])</pre></div></div></div><div class=\"sk-item\"><div class=\"sk-estimator sk-toggleable\"><input class=\"sk-toggleable__control sk-hidden--visually\" id=\"sk-estimator-id-18\" type=\"checkbox\" ><label for=\"sk-estimator-id-18\" class=\"sk-toggleable__label sk-toggleable__label-arrow\">OrdinalEncoder</label><div class=\"sk-toggleable__content\"><pre>OrdinalEncoder(variables=[&#x27;Sex&#x27;, &#x27;Housing&#x27;, &#x27;Saving accounts&#x27;,\n",
       "                          &#x27;Checking account&#x27;, &#x27;Purpose&#x27;])</pre></div></div></div></div></div></div></div>"
      ],
      "text/plain": [
       "Pipeline(steps=[('imputer_cat',\n",
       "                 CategoricalImputer(variables=['Saving accounts',\n",
       "                                               'Checking account'])),\n",
       "                ('encoder_rare_label',\n",
       "                 RareLabelEncoder(n_categories=6, tol=0.01,\n",
       "                                  variables=['Purpose'])),\n",
       "                ('categorical_encoder',\n",
       "                 OrdinalEncoder(variables=['Sex', 'Housing', 'Saving accounts',\n",
       "                                           'Checking account', 'Purpose']))])"
      ]
     },
     "execution_count": 98,
     "metadata": {},
     "output_type": "execute_result"
    }
   ],
   "source": [
    "risk_pipe.fit(X_train, y_train)"
   ]
  },
  {
   "cell_type": "code",
   "execution_count": 99,
   "id": "9e9ee636-66e6-43be-8216-5762ed85bca0",
   "metadata": {},
   "outputs": [],
   "source": [
    "X_train_ = risk_pipe.transform(X_train)\n",
    "X_test_ = risk_pipe.transform(X_test)"
   ]
  },
  {
   "cell_type": "markdown",
   "id": "f4a9e825-780f-4679-bda3-e93c4febe376",
   "metadata": {},
   "source": [
    "Let's compare our the original and the transformed sets:"
   ]
  },
  {
   "cell_type": "code",
   "execution_count": 100,
   "id": "3198c391-7c96-4447-912c-cdc7e7549b0c",
   "metadata": {},
   "outputs": [
    {
     "data": {
      "text/html": [
       "<div>\n",
       "<style scoped>\n",
       "    .dataframe tbody tr th:only-of-type {\n",
       "        vertical-align: middle;\n",
       "    }\n",
       "\n",
       "    .dataframe tbody tr th {\n",
       "        vertical-align: top;\n",
       "    }\n",
       "\n",
       "    .dataframe thead th {\n",
       "        text-align: right;\n",
       "    }\n",
       "</style>\n",
       "<table border=\"1\" class=\"dataframe\">\n",
       "  <thead>\n",
       "    <tr style=\"text-align: right;\">\n",
       "      <th></th>\n",
       "      <th>Age</th>\n",
       "      <th>Sex</th>\n",
       "      <th>Job</th>\n",
       "      <th>Housing</th>\n",
       "      <th>Saving accounts</th>\n",
       "      <th>Checking account</th>\n",
       "      <th>Credit amount</th>\n",
       "      <th>Duration</th>\n",
       "      <th>Purpose</th>\n",
       "    </tr>\n",
       "  </thead>\n",
       "  <tbody>\n",
       "    <tr>\n",
       "      <th>10</th>\n",
       "      <td>25</td>\n",
       "      <td>female</td>\n",
       "      <td>2</td>\n",
       "      <td>rent</td>\n",
       "      <td>little</td>\n",
       "      <td>moderate</td>\n",
       "      <td>1295</td>\n",
       "      <td>12</td>\n",
       "      <td>car</td>\n",
       "    </tr>\n",
       "    <tr>\n",
       "      <th>82</th>\n",
       "      <td>24</td>\n",
       "      <td>female</td>\n",
       "      <td>1</td>\n",
       "      <td>rent</td>\n",
       "      <td>moderate</td>\n",
       "      <td>NaN</td>\n",
       "      <td>1568</td>\n",
       "      <td>18</td>\n",
       "      <td>business</td>\n",
       "    </tr>\n",
       "    <tr>\n",
       "      <th>827</th>\n",
       "      <td>36</td>\n",
       "      <td>male</td>\n",
       "      <td>2</td>\n",
       "      <td>own</td>\n",
       "      <td>little</td>\n",
       "      <td>NaN</td>\n",
       "      <td>4165</td>\n",
       "      <td>18</td>\n",
       "      <td>business</td>\n",
       "    </tr>\n",
       "    <tr>\n",
       "      <th>410</th>\n",
       "      <td>20</td>\n",
       "      <td>female</td>\n",
       "      <td>2</td>\n",
       "      <td>own</td>\n",
       "      <td>little</td>\n",
       "      <td>moderate</td>\n",
       "      <td>1967</td>\n",
       "      <td>24</td>\n",
       "      <td>radio/TV</td>\n",
       "    </tr>\n",
       "    <tr>\n",
       "      <th>48</th>\n",
       "      <td>39</td>\n",
       "      <td>male</td>\n",
       "      <td>1</td>\n",
       "      <td>own</td>\n",
       "      <td>little</td>\n",
       "      <td>NaN</td>\n",
       "      <td>7228</td>\n",
       "      <td>11</td>\n",
       "      <td>car</td>\n",
       "    </tr>\n",
       "  </tbody>\n",
       "</table>\n",
       "</div>"
      ],
      "text/plain": [
       "     Age     Sex  Job Housing Saving accounts Checking account  Credit amount  \\\n",
       "10   25   female  2    rent    little          moderate         1295            \n",
       "82   24   female  1    rent    moderate        NaN              1568            \n",
       "827  36   male    2    own     little          NaN              4165            \n",
       "410  20   female  2    own     little          moderate         1967            \n",
       "48   39   male    1    own     little          NaN              7228            \n",
       "\n",
       "     Duration   Purpose  \n",
       "10   12        car       \n",
       "82   18        business  \n",
       "827  18        business  \n",
       "410  24        radio/TV  \n",
       "48   11        car       "
      ]
     },
     "execution_count": 100,
     "metadata": {},
     "output_type": "execute_result"
    }
   ],
   "source": [
    "X_train.head()"
   ]
  },
  {
   "cell_type": "code",
   "execution_count": 101,
   "id": "a35b973b-3ab2-46a1-b8a2-9bfa992c5ea2",
   "metadata": {},
   "outputs": [
    {
     "data": {
      "text/html": [
       "<div>\n",
       "<style scoped>\n",
       "    .dataframe tbody tr th:only-of-type {\n",
       "        vertical-align: middle;\n",
       "    }\n",
       "\n",
       "    .dataframe tbody tr th {\n",
       "        vertical-align: top;\n",
       "    }\n",
       "\n",
       "    .dataframe thead th {\n",
       "        text-align: right;\n",
       "    }\n",
       "</style>\n",
       "<table border=\"1\" class=\"dataframe\">\n",
       "  <thead>\n",
       "    <tr style=\"text-align: right;\">\n",
       "      <th></th>\n",
       "      <th>Age</th>\n",
       "      <th>Sex</th>\n",
       "      <th>Job</th>\n",
       "      <th>Housing</th>\n",
       "      <th>Saving accounts</th>\n",
       "      <th>Checking account</th>\n",
       "      <th>Credit amount</th>\n",
       "      <th>Duration</th>\n",
       "      <th>Purpose</th>\n",
       "    </tr>\n",
       "  </thead>\n",
       "  <tbody>\n",
       "    <tr>\n",
       "      <th>10</th>\n",
       "      <td>25</td>\n",
       "      <td>1</td>\n",
       "      <td>2</td>\n",
       "      <td>1</td>\n",
       "      <td>4</td>\n",
       "      <td>2</td>\n",
       "      <td>1295</td>\n",
       "      <td>12</td>\n",
       "      <td>1</td>\n",
       "    </tr>\n",
       "    <tr>\n",
       "      <th>82</th>\n",
       "      <td>24</td>\n",
       "      <td>1</td>\n",
       "      <td>1</td>\n",
       "      <td>1</td>\n",
       "      <td>3</td>\n",
       "      <td>0</td>\n",
       "      <td>1568</td>\n",
       "      <td>18</td>\n",
       "      <td>5</td>\n",
       "    </tr>\n",
       "    <tr>\n",
       "      <th>827</th>\n",
       "      <td>36</td>\n",
       "      <td>0</td>\n",
       "      <td>2</td>\n",
       "      <td>0</td>\n",
       "      <td>4</td>\n",
       "      <td>0</td>\n",
       "      <td>4165</td>\n",
       "      <td>18</td>\n",
       "      <td>5</td>\n",
       "    </tr>\n",
       "    <tr>\n",
       "      <th>410</th>\n",
       "      <td>20</td>\n",
       "      <td>1</td>\n",
       "      <td>2</td>\n",
       "      <td>0</td>\n",
       "      <td>4</td>\n",
       "      <td>2</td>\n",
       "      <td>1967</td>\n",
       "      <td>24</td>\n",
       "      <td>0</td>\n",
       "    </tr>\n",
       "    <tr>\n",
       "      <th>48</th>\n",
       "      <td>39</td>\n",
       "      <td>0</td>\n",
       "      <td>1</td>\n",
       "      <td>0</td>\n",
       "      <td>4</td>\n",
       "      <td>0</td>\n",
       "      <td>7228</td>\n",
       "      <td>11</td>\n",
       "      <td>1</td>\n",
       "    </tr>\n",
       "  </tbody>\n",
       "</table>\n",
       "</div>"
      ],
      "text/plain": [
       "     Age  Sex  Job  Housing  Saving accounts  Checking account  Credit amount  \\\n",
       "10   25   1    2    1        4                2                 1295            \n",
       "82   24   1    1    1        3                0                 1568            \n",
       "827  36   0    2    0        4                0                 4165            \n",
       "410  20   1    2    0        4                2                 1967            \n",
       "48   39   0    1    0        4                0                 7228            \n",
       "\n",
       "     Duration  Purpose  \n",
       "10   12        1        \n",
       "82   18        5        \n",
       "827  18        5        \n",
       "410  24        0        \n",
       "48   11        1        "
      ]
     },
     "execution_count": 101,
     "metadata": {},
     "output_type": "execute_result"
    }
   ],
   "source": [
    "X_train_.head()"
   ]
  },
  {
   "cell_type": "code",
   "execution_count": 103,
   "id": "fa921723-9999-49c0-ad83-afbc17ad0687",
   "metadata": {},
   "outputs": [
    {
     "data": {
      "text/html": [
       "<div>\n",
       "<style scoped>\n",
       "    .dataframe tbody tr th:only-of-type {\n",
       "        vertical-align: middle;\n",
       "    }\n",
       "\n",
       "    .dataframe tbody tr th {\n",
       "        vertical-align: top;\n",
       "    }\n",
       "\n",
       "    .dataframe thead th {\n",
       "        text-align: right;\n",
       "    }\n",
       "</style>\n",
       "<table border=\"1\" class=\"dataframe\">\n",
       "  <thead>\n",
       "    <tr style=\"text-align: right;\">\n",
       "      <th></th>\n",
       "      <th>Age</th>\n",
       "      <th>Sex</th>\n",
       "      <th>Job</th>\n",
       "      <th>Housing</th>\n",
       "      <th>Saving accounts</th>\n",
       "      <th>Checking account</th>\n",
       "      <th>Credit amount</th>\n",
       "      <th>Duration</th>\n",
       "      <th>Purpose</th>\n",
       "    </tr>\n",
       "  </thead>\n",
       "  <tbody>\n",
       "    <tr>\n",
       "      <th>115</th>\n",
       "      <td>47</td>\n",
       "      <td>male</td>\n",
       "      <td>2</td>\n",
       "      <td>own</td>\n",
       "      <td>NaN</td>\n",
       "      <td>NaN</td>\n",
       "      <td>3578</td>\n",
       "      <td>48</td>\n",
       "      <td>radio/TV</td>\n",
       "    </tr>\n",
       "    <tr>\n",
       "      <th>346</th>\n",
       "      <td>23</td>\n",
       "      <td>male</td>\n",
       "      <td>2</td>\n",
       "      <td>own</td>\n",
       "      <td>little</td>\n",
       "      <td>moderate</td>\n",
       "      <td>882</td>\n",
       "      <td>13</td>\n",
       "      <td>radio/TV</td>\n",
       "    </tr>\n",
       "    <tr>\n",
       "      <th>328</th>\n",
       "      <td>31</td>\n",
       "      <td>male</td>\n",
       "      <td>2</td>\n",
       "      <td>own</td>\n",
       "      <td>little</td>\n",
       "      <td>rich</td>\n",
       "      <td>4473</td>\n",
       "      <td>36</td>\n",
       "      <td>radio/TV</td>\n",
       "    </tr>\n",
       "    <tr>\n",
       "      <th>974</th>\n",
       "      <td>33</td>\n",
       "      <td>female</td>\n",
       "      <td>2</td>\n",
       "      <td>own</td>\n",
       "      <td>little</td>\n",
       "      <td>NaN</td>\n",
       "      <td>2831</td>\n",
       "      <td>30</td>\n",
       "      <td>radio/TV</td>\n",
       "    </tr>\n",
       "    <tr>\n",
       "      <th>587</th>\n",
       "      <td>21</td>\n",
       "      <td>male</td>\n",
       "      <td>1</td>\n",
       "      <td>own</td>\n",
       "      <td>little</td>\n",
       "      <td>little</td>\n",
       "      <td>1289</td>\n",
       "      <td>12</td>\n",
       "      <td>furniture/equipment</td>\n",
       "    </tr>\n",
       "  </tbody>\n",
       "</table>\n",
       "</div>"
      ],
      "text/plain": [
       "     Age     Sex  Job Housing Saving accounts Checking account  Credit amount  \\\n",
       "115  47   male    2    own     NaN             NaN              3578            \n",
       "346  23   male    2    own     little          moderate         882             \n",
       "328  31   male    2    own     little          rich             4473            \n",
       "974  33   female  2    own     little          NaN              2831            \n",
       "587  21   male    1    own     little          little           1289            \n",
       "\n",
       "     Duration              Purpose  \n",
       "115  48        radio/TV             \n",
       "346  13        radio/TV             \n",
       "328  36        radio/TV             \n",
       "974  30        radio/TV             \n",
       "587  12        furniture/equipment  "
      ]
     },
     "execution_count": 103,
     "metadata": {},
     "output_type": "execute_result"
    }
   ],
   "source": [
    "X_test.head()"
   ]
  },
  {
   "cell_type": "code",
   "execution_count": 104,
   "id": "f9d14178-ec8a-49cd-9a05-1c2e99135b68",
   "metadata": {},
   "outputs": [
    {
     "data": {
      "text/html": [
       "<div>\n",
       "<style scoped>\n",
       "    .dataframe tbody tr th:only-of-type {\n",
       "        vertical-align: middle;\n",
       "    }\n",
       "\n",
       "    .dataframe tbody tr th {\n",
       "        vertical-align: top;\n",
       "    }\n",
       "\n",
       "    .dataframe thead th {\n",
       "        text-align: right;\n",
       "    }\n",
       "</style>\n",
       "<table border=\"1\" class=\"dataframe\">\n",
       "  <thead>\n",
       "    <tr style=\"text-align: right;\">\n",
       "      <th></th>\n",
       "      <th>Age</th>\n",
       "      <th>Sex</th>\n",
       "      <th>Job</th>\n",
       "      <th>Housing</th>\n",
       "      <th>Saving accounts</th>\n",
       "      <th>Checking account</th>\n",
       "      <th>Credit amount</th>\n",
       "      <th>Duration</th>\n",
       "      <th>Purpose</th>\n",
       "    </tr>\n",
       "  </thead>\n",
       "  <tbody>\n",
       "    <tr>\n",
       "      <th>115</th>\n",
       "      <td>47</td>\n",
       "      <td>0</td>\n",
       "      <td>2</td>\n",
       "      <td>0</td>\n",
       "      <td>1</td>\n",
       "      <td>0</td>\n",
       "      <td>3578</td>\n",
       "      <td>48</td>\n",
       "      <td>0</td>\n",
       "    </tr>\n",
       "    <tr>\n",
       "      <th>346</th>\n",
       "      <td>23</td>\n",
       "      <td>0</td>\n",
       "      <td>2</td>\n",
       "      <td>0</td>\n",
       "      <td>4</td>\n",
       "      <td>2</td>\n",
       "      <td>882</td>\n",
       "      <td>13</td>\n",
       "      <td>0</td>\n",
       "    </tr>\n",
       "    <tr>\n",
       "      <th>328</th>\n",
       "      <td>31</td>\n",
       "      <td>0</td>\n",
       "      <td>2</td>\n",
       "      <td>0</td>\n",
       "      <td>4</td>\n",
       "      <td>1</td>\n",
       "      <td>4473</td>\n",
       "      <td>36</td>\n",
       "      <td>0</td>\n",
       "    </tr>\n",
       "    <tr>\n",
       "      <th>974</th>\n",
       "      <td>33</td>\n",
       "      <td>1</td>\n",
       "      <td>2</td>\n",
       "      <td>0</td>\n",
       "      <td>4</td>\n",
       "      <td>0</td>\n",
       "      <td>2831</td>\n",
       "      <td>30</td>\n",
       "      <td>0</td>\n",
       "    </tr>\n",
       "    <tr>\n",
       "      <th>587</th>\n",
       "      <td>21</td>\n",
       "      <td>0</td>\n",
       "      <td>1</td>\n",
       "      <td>0</td>\n",
       "      <td>4</td>\n",
       "      <td>3</td>\n",
       "      <td>1289</td>\n",
       "      <td>12</td>\n",
       "      <td>3</td>\n",
       "    </tr>\n",
       "  </tbody>\n",
       "</table>\n",
       "</div>"
      ],
      "text/plain": [
       "     Age  Sex  Job  Housing  Saving accounts  Checking account  Credit amount  \\\n",
       "115  47   0    2    0        1                0                 3578            \n",
       "346  23   0    2    0        4                2                 882             \n",
       "328  31   0    2    0        4                1                 4473            \n",
       "974  33   1    2    0        4                0                 2831            \n",
       "587  21   0    1    0        4                3                 1289            \n",
       "\n",
       "     Duration  Purpose  \n",
       "115  48        0        \n",
       "346  13        0        \n",
       "328  36        0        \n",
       "974  30        0        \n",
       "587  12        3        "
      ]
     },
     "execution_count": 104,
     "metadata": {},
     "output_type": "execute_result"
    }
   ],
   "source": [
    "X_test_.head()"
   ]
  },
  {
   "cell_type": "markdown",
   "id": "11b91784-5286-45e9-b6dc-d1ec1888e473",
   "metadata": {},
   "source": [
    "### Outliers filtering"
   ]
  },
  {
   "cell_type": "markdown",
   "id": "d4bc66bd-a3b1-4abc-8eee-a8c4c2b4dd8f",
   "metadata": {},
   "source": [
    "Reensemble target to be able for outlier filtering:"
   ]
  },
  {
   "cell_type": "code",
   "execution_count": 107,
   "id": "7d49edf6-4f49-43fc-9e78-d50c0e6a7c15",
   "metadata": {},
   "outputs": [],
   "source": [
    "X_train_['Risk'] = y_train \n",
    "X_test_['Risk'] = y_test "
   ]
  },
  {
   "cell_type": "code",
   "execution_count": 110,
   "id": "c9a463dc-3f4a-423e-8d1e-0535ac33f9f5",
   "metadata": {},
   "outputs": [],
   "source": [
    "def plot_boxplot_and_hist(data, variable):\n",
    "\n",
    "    f, (ax_box, ax_hist) = plt.subplots(2, sharex=True, gridspec_kw={\"height_ratios\": (0.50, 0.85)})\n",
    "    \n",
    "    sns.boxplot(x=data[variable], ax=ax_box)\n",
    "    sns.histplot(data=data, x=variable, ax=ax_hist)\n",
    "    \n",
    "    ax_box.set(xlabel=\"\")\n",
    "    plt.title(variable)\n",
    "    plt.show()"
   ]
  },
  {
   "cell_type": "code",
   "execution_count": 112,
   "id": "426aaf84-d2b0-488a-976f-d1366b9a879c",
   "metadata": {},
   "outputs": [],
   "source": [
    "trimmer = OutlierTrimmer(variables=[\"Age\", \"Credit amount\", \"Duration\"], \n",
    "                         capping_method=\"iqr\",\n",
    "                         tail=\"both\",\n",
    "                         fold=1.5,\n",
    "                         )"
   ]
  },
  {
   "cell_type": "code",
   "execution_count": 113,
   "id": "b5ee3843-d26d-4536-bbb9-d0707253cc9f",
   "metadata": {},
   "outputs": [
    {
     "data": {
      "text/html": [
       "<style>#sk-container-id-5 {color: black;background-color: white;}#sk-container-id-5 pre{padding: 0;}#sk-container-id-5 div.sk-toggleable {background-color: white;}#sk-container-id-5 label.sk-toggleable__label {cursor: pointer;display: block;width: 100%;margin-bottom: 0;padding: 0.3em;box-sizing: border-box;text-align: center;}#sk-container-id-5 label.sk-toggleable__label-arrow:before {content: \"▸\";float: left;margin-right: 0.25em;color: #696969;}#sk-container-id-5 label.sk-toggleable__label-arrow:hover:before {color: black;}#sk-container-id-5 div.sk-estimator:hover label.sk-toggleable__label-arrow:before {color: black;}#sk-container-id-5 div.sk-toggleable__content {max-height: 0;max-width: 0;overflow: hidden;text-align: left;background-color: #f0f8ff;}#sk-container-id-5 div.sk-toggleable__content pre {margin: 0.2em;color: black;border-radius: 0.25em;background-color: #f0f8ff;}#sk-container-id-5 input.sk-toggleable__control:checked~div.sk-toggleable__content {max-height: 200px;max-width: 100%;overflow: auto;}#sk-container-id-5 input.sk-toggleable__control:checked~label.sk-toggleable__label-arrow:before {content: \"▾\";}#sk-container-id-5 div.sk-estimator input.sk-toggleable__control:checked~label.sk-toggleable__label {background-color: #d4ebff;}#sk-container-id-5 div.sk-label input.sk-toggleable__control:checked~label.sk-toggleable__label {background-color: #d4ebff;}#sk-container-id-5 input.sk-hidden--visually {border: 0;clip: rect(1px 1px 1px 1px);clip: rect(1px, 1px, 1px, 1px);height: 1px;margin: -1px;overflow: hidden;padding: 0;position: absolute;width: 1px;}#sk-container-id-5 div.sk-estimator {font-family: monospace;background-color: #f0f8ff;border: 1px dotted black;border-radius: 0.25em;box-sizing: border-box;margin-bottom: 0.5em;}#sk-container-id-5 div.sk-estimator:hover {background-color: #d4ebff;}#sk-container-id-5 div.sk-parallel-item::after {content: \"\";width: 100%;border-bottom: 1px solid gray;flex-grow: 1;}#sk-container-id-5 div.sk-label:hover label.sk-toggleable__label {background-color: #d4ebff;}#sk-container-id-5 div.sk-serial::before {content: \"\";position: absolute;border-left: 1px solid gray;box-sizing: border-box;top: 0;bottom: 0;left: 50%;z-index: 0;}#sk-container-id-5 div.sk-serial {display: flex;flex-direction: column;align-items: center;background-color: white;padding-right: 0.2em;padding-left: 0.2em;position: relative;}#sk-container-id-5 div.sk-item {position: relative;z-index: 1;}#sk-container-id-5 div.sk-parallel {display: flex;align-items: stretch;justify-content: center;background-color: white;position: relative;}#sk-container-id-5 div.sk-item::before, #sk-container-id-5 div.sk-parallel-item::before {content: \"\";position: absolute;border-left: 1px solid gray;box-sizing: border-box;top: 0;bottom: 0;left: 50%;z-index: -1;}#sk-container-id-5 div.sk-parallel-item {display: flex;flex-direction: column;z-index: 1;position: relative;background-color: white;}#sk-container-id-5 div.sk-parallel-item:first-child::after {align-self: flex-end;width: 50%;}#sk-container-id-5 div.sk-parallel-item:last-child::after {align-self: flex-start;width: 50%;}#sk-container-id-5 div.sk-parallel-item:only-child::after {width: 0;}#sk-container-id-5 div.sk-dashed-wrapped {border: 1px dashed gray;margin: 0 0.4em 0.5em 0.4em;box-sizing: border-box;padding-bottom: 0.4em;background-color: white;}#sk-container-id-5 div.sk-label label {font-family: monospace;font-weight: bold;display: inline-block;line-height: 1.2em;}#sk-container-id-5 div.sk-label-container {text-align: center;}#sk-container-id-5 div.sk-container {/* jupyter's `normalize.less` sets `[hidden] { display: none; }` but bootstrap.min.css set `[hidden] { display: none !important; }` so we also need the `!important` here to be able to override the default hidden behavior on the sphinx rendered scikit-learn.org. See: https://github.com/scikit-learn/scikit-learn/issues/21755 */display: inline-block !important;position: relative;}#sk-container-id-5 div.sk-text-repr-fallback {display: none;}</style><div id=\"sk-container-id-5\" class=\"sk-top-container\"><div class=\"sk-text-repr-fallback\"><pre>OutlierTrimmer(capping_method=&#x27;iqr&#x27;, fold=1.5, tail=&#x27;both&#x27;,\n",
       "               variables=[&#x27;Age&#x27;, &#x27;Credit amount&#x27;, &#x27;Duration&#x27;])</pre><b>In a Jupyter environment, please rerun this cell to show the HTML representation or trust the notebook. <br />On GitHub, the HTML representation is unable to render, please try loading this page with nbviewer.org.</b></div><div class=\"sk-container\" hidden><div class=\"sk-item\"><div class=\"sk-estimator sk-toggleable\"><input class=\"sk-toggleable__control sk-hidden--visually\" id=\"sk-estimator-id-19\" type=\"checkbox\" checked><label for=\"sk-estimator-id-19\" class=\"sk-toggleable__label sk-toggleable__label-arrow\">OutlierTrimmer</label><div class=\"sk-toggleable__content\"><pre>OutlierTrimmer(capping_method=&#x27;iqr&#x27;, fold=1.5, tail=&#x27;both&#x27;,\n",
       "               variables=[&#x27;Age&#x27;, &#x27;Credit amount&#x27;, &#x27;Duration&#x27;])</pre></div></div></div></div></div>"
      ],
      "text/plain": [
       "OutlierTrimmer(capping_method='iqr', fold=1.5, tail='both',\n",
       "               variables=['Age', 'Credit amount', 'Duration'])"
      ]
     },
     "execution_count": 113,
     "metadata": {},
     "output_type": "execute_result"
    }
   ],
   "source": [
    "trimmer.fit(X_train_)"
   ]
  },
  {
   "cell_type": "code",
   "execution_count": 116,
   "id": "cae0d321-8a7a-4b6b-acba-26f970bbe84f",
   "metadata": {},
   "outputs": [
    {
     "name": "stdout",
     "output_type": "stream",
     "text": [
      "(700, 10) (300, 10)\n",
      "(700,) (300,)\n",
      "(604, 10) (247, 10)\n",
      "(604,) (247,)\n"
     ]
    }
   ],
   "source": [
    "print(X_train_.shape, X_test_.shape)\n",
    "print(y_train.shape, y_test.shape)\n",
    "\n",
    "X_train__ = trimmer.transform(X_train_)\n",
    "X_test__ = trimmer.transform(X_test_)\n",
    "\n",
    "print(X_train__.shape, X_test__.shape)\n",
    "print(X_train__['Risk'].shape, X_test__['Risk'].shape) #-> this will be our y_train and y_test when we divide targets again"
   ]
  },
  {
   "cell_type": "markdown",
   "id": "eb73befc-8823-4e0b-b930-a3d4422c1cbe",
   "metadata": {},
   "source": [
    "We will check how our trimmer worked visualizing the variables distributions:"
   ]
  },
  {
   "cell_type": "code",
   "execution_count": 117,
   "id": "8b0affe4-b2cc-4f8a-b0e8-11517ac22b44",
   "metadata": {},
   "outputs": [
    {
     "data": {
      "image/png": "[encoded data removed]",
      "text/plain": [
       "<Figure size 640x480 with 2 Axes>"
      ]
     },
     "metadata": {},
     "output_type": "display_data"
    }
   ],
   "source": [
    "plot_boxplot_and_hist(X_train_, \"Age\") # before trimming"
   ]
  },
  {
   "cell_type": "code",
   "execution_count": 118,
   "id": "1ed3b9b5-119b-4579-ab02-1ef0d4641204",
   "metadata": {},
   "outputs": [
    {
     "data": {
      "image/png": "[encoded data removed]",
      "text/plain": [
       "<Figure size 640x480 with 2 Axes>"
      ]
     },
     "metadata": {},
     "output_type": "display_data"
    }
   ],
   "source": [
    "plot_boxplot_and_hist(X_train__, \"Age\") # after trimming"
   ]
  },
  {
   "cell_type": "code",
   "execution_count": 119,
   "id": "c8149a60-bdb5-4c39-bbc7-66b4965ede18",
   "metadata": {},
   "outputs": [
    {
     "data": {
      "image/png": "[encoded data removed]",
      "text/plain": [
       "<Figure size 640x480 with 2 Axes>"
      ]
     },
     "metadata": {},
     "output_type": "display_data"
    }
   ],
   "source": [
    "plot_boxplot_and_hist(X_train_, \"Credit amount\") # before trimming"
   ]
  },
  {
   "cell_type": "code",
   "execution_count": 120,
   "id": "681cbab8-27e9-4ee7-a107-62bcad730f7d",
   "metadata": {},
   "outputs": [
    {
     "data": {
      "image/png": "[encoded data removed]",
      "text/plain": [
       "<Figure size 640x480 with 2 Axes>"
      ]
     },
     "metadata": {},
     "output_type": "display_data"
    }
   ],
   "source": [
    "plot_boxplot_and_hist(X_train__, \"Credit amount\") # after trimming"
   ]
  },
  {
   "cell_type": "code",
   "execution_count": 121,
   "id": "a6e68144-1c82-496e-983b-849a5b37647d",
   "metadata": {},
   "outputs": [
    {
     "data": {
      "image/png": "[encoded data removed]",
      "text/plain": [
       "<Figure size 640x480 with 2 Axes>"
      ]
     },
     "metadata": {},
     "output_type": "display_data"
    }
   ],
   "source": [
    "plot_boxplot_and_hist(X_train_, \"Duration\") # before trimming"
   ]
  },
  {
   "cell_type": "code",
   "execution_count": 122,
   "id": "d972a490-6a08-4e5b-b94a-6c28d54e02db",
   "metadata": {},
   "outputs": [
    {
     "data": {
      "image/png": "[encoded data removed]",
      "text/plain": [
       "<Figure size 640x480 with 2 Axes>"
      ]
     },
     "metadata": {},
     "output_type": "display_data"
    }
   ],
   "source": [
    "plot_boxplot_and_hist(X_train__, \"Duration\") # after trimming"
   ]
  },
  {
   "cell_type": "markdown",
   "id": "c157f1fc-8ed7-4b78-9be5-17dd1da2534f",
   "metadata": {},
   "source": [
    "### Export dataset"
   ]
  },
  {
   "cell_type": "markdown",
   "id": "893a5f96-02ff-4b43-9b07-67d8e6079928",
   "metadata": {},
   "source": [
    "We will export our filtered dataset to use in part 2:"
   ]
  },
  {
   "cell_type": "code",
   "execution_count": 123,
   "id": "dfecb79a-7bc1-4ba1-bb11-9ee6e521de3f",
   "metadata": {},
   "outputs": [],
   "source": [
    "X_train__.to_csv('E:/0 Projects/Project 8/dataset/ds_train.csv', index=False)\n",
    "X_test__.to_csv('E:/0 Projects/Project 8/dataset/ds_test.csv', index=False)"
   ]
  },
  {
   "cell_type": "code",
   "execution_count": null,
   "id": "2e90b815-b347-4b31-b8bd-13c4a577c3a0",
   "metadata": {},
   "outputs": [],
   "source": []
  }
 ],
 "metadata": {
  "kernelspec": {
   "display_name": "Python 3 (ipykernel)",
   "language": "python",
   "name": "python3"
  },
  "language_info": {
   "codemirror_mode": {
    "name": "ipython",
    "version": 3
   },
   "file_extension": ".py",
   "mimetype": "text/x-python",
   "name": "python",
   "nbconvert_exporter": "python",
   "pygments_lexer": "ipython3",
   "version": "3.9.16"
  }
 },
 "nbformat": 4,
 "nbformat_minor": 5
}
