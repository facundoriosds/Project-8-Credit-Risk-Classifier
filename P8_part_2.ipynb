{
 "cells": [
  {
   "cell_type": "markdown",
   "id": "5f795d91-36f8-4ce3-8e0d-679972c90457",
   "metadata": {
    "tags": []
   },
   "source": [
    "## Project 8 - Credit Risk - Part 2"
   ]
  },
  {
   "cell_type": "markdown",
   "id": "f9d03466-e95a-4dbd-93c2-c0067504eafa",
   "metadata": {
    "tags": []
   },
   "source": [
    "### Notebook Content\n",
    "\n",
    "1. Dataset Sampling\n",
    "2. Models Training and Evaluation\n"
   ]
  },
  {
   "cell_type": "markdown",
   "id": "15729cef",
   "metadata": {
    "tags": []
   },
   "source": [
    "## 1. Dataset Sampling\n",
    "---"
   ]
  },
  {
   "cell_type": "markdown",
   "id": "84d7c930-8859-4227-b552-7e1e689b7331",
   "metadata": {},
   "source": [
    "Import libraries:"
   ]
  },
  {
   "cell_type": "code",
   "execution_count": 18,
   "id": "42da6a46-aea2-4274-b7fa-2b2f537390f8",
   "metadata": {
    "tags": []
   },
   "outputs": [],
   "source": [
    "import numpy as np\n",
    "import pandas as pd\n",
    "import matplotlib.pyplot as plt\n",
    "import seaborn as sns\n",
    "\n",
    "from sklearn.ensemble import GradientBoostingClassifier\n",
    "from sklearn.model_selection import cross_val_score, train_test_split\n",
    "\n",
    "from skopt.plots import (plot_convergence, plot_evaluations, plot_objective)\n",
    "from skopt.space import Real, Integer, Categorical\n",
    "from skopt.utils import use_named_args\n",
    "\n",
    "from sklearn.metrics import confusion_matrix, classification_report \n",
    "from sklearn.metrics import roc_auc_score \n",
    "\n",
    "from imblearn.over_sampling import (RandomOverSampler, SMOTE ,ADASYN, BorderlineSMOTE, SVMSMOTE)"
   ]
  },
  {
   "cell_type": "markdown",
   "id": "e76dac06-88f8-4b99-9394-a96c26d33652",
   "metadata": {},
   "source": [
    "Import filtered dataset:"
   ]
  },
  {
   "cell_type": "code",
   "execution_count": 14,
   "id": "438ec2ca-ddf8-45a3-8a88-46ba7bf1e3fc",
   "metadata": {
    "tags": []
   },
   "outputs": [],
   "source": [
    "train = pd.read_csv('dataset/ds_train.csv')\n",
    "test = pd.read_csv('dataset/ds_test.csv')"
   ]
  },
  {
   "cell_type": "code",
   "execution_count": 16,
   "id": "dc08d9e9-e12c-4245-8167-60087d10e733",
   "metadata": {
    "tags": []
   },
   "outputs": [],
   "source": [
    "X_train = train.drop(columns='Risk')            \n",
    "y_train = train['Risk']\n",
    "\n",
    "X_test = test.drop(columns='Risk')            \n",
    "y_test = test['Risk']"
   ]
  },
  {
   "cell_type": "markdown",
   "id": "41525d13-3c0a-4509-ac24-414624bd7bde",
   "metadata": {},
   "source": [
    "Checking size and formats:"
   ]
  },
  {
   "cell_type": "code",
   "execution_count": 17,
   "id": "dcc5562e-1f0c-4cc1-a16d-6861c7f1784e",
   "metadata": {
    "tags": []
   },
   "outputs": [
    {
     "name": "stdout",
     "output_type": "stream",
     "text": [
      "X_train shape: (604, 9), type: <class 'pandas.core.frame.DataFrame'>\n",
      "y_train shape: (604,), type: <class 'pandas.core.series.Series'>\n",
      "X_test shape: (247, 9), type: <class 'pandas.core.frame.DataFrame'>\n",
      "y_test shape: (247,), type: <class 'pandas.core.series.Series'>\n"
     ]
    }
   ],
   "source": [
    "print('X_train shape: {}, type: {}'.format(X_train.shape, type(X_train)))\n",
    "print('y_train shape: {}, type: {}'.format(y_train.shape,type(y_train)))\n",
    "print('X_test shape: {}, type: {}'.format(X_test.shape,type(X_test)))\n",
    "print('y_test shape: {}, type: {}'.format(y_test.shape,type(y_test)))"
   ]
  },
  {
   "cell_type": "markdown",
   "id": "abfa08bf-ee57-4cbc-803d-78d22ccc35e5",
   "metadata": {},
   "source": [
    "Confusion Matrix plotting function:"
   ]
  },
  {
   "cell_type": "code",
   "execution_count": 7,
   "id": "0d0ccf8b-0313-488c-9285-d586b22714e4",
   "metadata": {
    "id": "1e037904",
    "tags": []
   },
   "outputs": [],
   "source": [
    "def plot_cm(y_pred_):                    \n",
    "    cnf_matrix = confusion_matrix(y_test, y_pred_)\n",
    "    plt.figure(figsize=(4,3))\n",
    "    sns.heatmap(pd.DataFrame(cnf_matrix), annot=True, cmap=\"YlGnBu\", fmt='g')\n",
    "    plt.ylabel('Actual Label', size=7)\n",
    "    plt.xlabel('Predicted Label', size=7)\n",
    "    plt.show()    "
   ]
  },
  {
   "cell_type": "markdown",
   "id": "09fcc9f5-18ba-4f5e-9421-4de7533548f3",
   "metadata": {},
   "source": [
    "Classification Report function:"
   ]
  },
  {
   "cell_type": "code",
   "execution_count": 8,
   "id": "7f87f732-c5a5-4f71-9bfd-82946a6fd88a",
   "metadata": {
    "id": "5ff04a67",
    "tags": []
   },
   "outputs": [],
   "source": [
    "def class_report(y_pred_):                                                        \n",
    "    print(classification_report(y_test, y_pred_, target_names = ['not risk','risk']))"
   ]
  },
  {
   "cell_type": "markdown",
   "id": "bbd08a5d-023c-4bb3-bc55-e48ca09c18c5",
   "metadata": {
    "tags": []
   },
   "source": [
    "### Dataset Sampling"
   ]
  },
  {
   "cell_type": "markdown",
   "id": "c4e7c819-74ca-48c5-a689-a206e94713d6",
   "metadata": {},
   "source": [
    "We will create 5 different oversampled datasets:"
   ]
  },
  {
   "cell_type": "code",
   "execution_count": 19,
   "id": "62a03b5d-e098-4d09-b529-122527cc0e19",
   "metadata": {
    "tags": []
   },
   "outputs": [],
   "source": [
    "oversampler_dict = {'random': RandomOverSampler(\n",
    "                        sampling_strategy='auto',\n",
    "                        random_state=42),\n",
    "\n",
    "                    'smote': SMOTE(\n",
    "                        sampling_strategy='auto',  \n",
    "                        random_state=0,  \n",
    "                        k_neighbors=5,\n",
    "                        n_jobs=4),\n",
    "\n",
    "                    'adasyn': ADASYN(\n",
    "                        sampling_strategy='auto',  \n",
    "                        random_state=0,  \n",
    "                        n_neighbors=5,\n",
    "                        n_jobs=4),\n",
    "\n",
    "                    'border1': BorderlineSMOTE(\n",
    "                        sampling_strategy='auto',  \n",
    "                        random_state=0, \n",
    "                        k_neighbors=5,\n",
    "                        m_neighbors=10,\n",
    "                        kind='borderline-1',\n",
    "                        n_jobs=4),\n",
    "\n",
    "                    'border2': BorderlineSMOTE(\n",
    "                        sampling_strategy='auto',  \n",
    "                        random_state=0,  \n",
    "                        k_neighbors=5,\n",
    "                        m_neighbors=10,\n",
    "                        kind='borderline-2',\n",
    "                        n_jobs=4)\n",
    "                        }"
   ]
  },
  {
   "cell_type": "markdown",
   "id": "e8540f8b-528d-4ccf-b658-1ecf1b378cf0",
   "metadata": {},
   "source": [
    "We will inspect the created Datasets:"
   ]
  },
  {
   "cell_type": "markdown",
   "id": "c0697962-ccf4-4d55-8baa-6991606d4447",
   "metadata": {},
   "source": [
    "Random Oversampled Dataset:"
   ]
  },
  {
   "cell_type": "code",
   "execution_count": 20,
   "id": "7fe719c9-642c-4cb2-97ee-17716446c86a",
   "metadata": {
    "tags": []
   },
   "outputs": [],
   "source": [
    "X_random, y_random = oversampler_dict['random'].fit_resample(X_train, y_train)"
   ]
  },
  {
   "cell_type": "code",
   "execution_count": 21,
   "id": "ccf5501f-d290-4943-a450-699eb4eeecae",
   "metadata": {
    "tags": []
   },
   "outputs": [
    {
     "name": "stdout",
     "output_type": "stream",
     "text": [
      "(604, 9) (876, 9)\n",
      "0    0.725166\n",
      "1    0.274834\n",
      "Name: Risk, dtype: float64\n",
      "0    0.5\n",
      "1    0.5\n",
      "Name: Risk, dtype: float64\n"
     ]
    }
   ],
   "source": [
    "print(X_train.shape, X_random.shape)\n",
    "print(y_train.value_counts(normalize=True))\n",
    "print(y_random.value_counts(normalize=True))"
   ]
  },
  {
   "cell_type": "markdown",
   "id": "b5252967-f19b-46b2-a469-2295c8e30f7d",
   "metadata": {},
   "source": [
    "Smote Dataset:"
   ]
  },
  {
   "cell_type": "code",
   "execution_count": 22,
   "id": "68907206-be2b-45fb-a89f-2e360c7c4c58",
   "metadata": {
    "tags": []
   },
   "outputs": [],
   "source": [
    "X_smote, y_smote = oversampler_dict['smote'].fit_resample(X_train, y_train)"
   ]
  },
  {
   "cell_type": "code",
   "execution_count": 23,
   "id": "54bc3fca-e482-45e0-93c0-3f40211a9a34",
   "metadata": {
    "tags": []
   },
   "outputs": [
    {
     "name": "stdout",
     "output_type": "stream",
     "text": [
      "(604, 9) (876, 9)\n",
      "0    0.725166\n",
      "1    0.274834\n",
      "Name: Risk, dtype: float64\n",
      "0    0.5\n",
      "1    0.5\n",
      "Name: Risk, dtype: float64\n"
     ]
    }
   ],
   "source": [
    "print(X_train.shape, X_smote.shape)\n",
    "print(y_train.value_counts(normalize=True))\n",
    "print(y_smote.value_counts(normalize=True))"
   ]
  },
  {
   "cell_type": "markdown",
   "id": "c9fa1ce4-de07-4973-b10e-5b2330e20569",
   "metadata": {},
   "source": [
    "Adasyn Dataset:"
   ]
  },
  {
   "cell_type": "code",
   "execution_count": 24,
   "id": "c906e930-adb2-4d4f-898c-d85b3033cd65",
   "metadata": {
    "tags": []
   },
   "outputs": [],
   "source": [
    "X_adasyn, y_adasyn = oversampler_dict['adasyn'].fit_resample(X_train, y_train)"
   ]
  },
  {
   "cell_type": "code",
   "execution_count": 25,
   "id": "9b7308ba-be50-4963-aa30-d57289aefb2e",
   "metadata": {
    "tags": []
   },
   "outputs": [
    {
     "name": "stdout",
     "output_type": "stream",
     "text": [
      "(604, 9) (853, 9)\n",
      "0    0.725166\n",
      "1    0.274834\n",
      "Name: Risk, dtype: float64\n",
      "0    0.513482\n",
      "1    0.486518\n",
      "Name: Risk, dtype: float64\n"
     ]
    }
   ],
   "source": [
    "print(X_train.shape, X_adasyn.shape)\n",
    "print(y_train.value_counts(normalize=True))\n",
    "print(y_adasyn.value_counts(normalize=True))"
   ]
  },
  {
   "cell_type": "markdown",
   "id": "def73379-0b27-4877-aca5-5a5e1c9da88c",
   "metadata": {},
   "source": [
    "Border1 Dataset:"
   ]
  },
  {
   "cell_type": "code",
   "execution_count": 26,
   "id": "74af1031-ff7b-4e8f-9c63-495780d13ace",
   "metadata": {
    "tags": []
   },
   "outputs": [],
   "source": [
    "X_border1, y_border1 = oversampler_dict['border1'].fit_resample(X_train, y_train)"
   ]
  },
  {
   "cell_type": "code",
   "execution_count": 27,
   "id": "fddabb1e-a9c9-4c05-9a6b-cd3ff99c4e7f",
   "metadata": {
    "tags": []
   },
   "outputs": [
    {
     "name": "stdout",
     "output_type": "stream",
     "text": [
      "(604, 9) (876, 9)\n",
      "0    0.725166\n",
      "1    0.274834\n",
      "Name: Risk, dtype: float64\n",
      "0    0.5\n",
      "1    0.5\n",
      "Name: Risk, dtype: float64\n"
     ]
    }
   ],
   "source": [
    "print(X_train.shape, X_border1.shape)\n",
    "print(y_train.value_counts(normalize=True))\n",
    "print(y_border1.value_counts(normalize=True))"
   ]
  },
  {
   "cell_type": "markdown",
   "id": "4ee7bba2-5695-4a50-b01a-a6c7506864ab",
   "metadata": {},
   "source": [
    "Border2 Dataset:"
   ]
  },
  {
   "cell_type": "code",
   "execution_count": 28,
   "id": "f2f441a3-d09e-4f65-848e-900632742ed3",
   "metadata": {
    "tags": []
   },
   "outputs": [],
   "source": [
    "X_border2, y_border2 = oversampler_dict['border2'].fit_resample(X_train, y_train)"
   ]
  },
  {
   "cell_type": "code",
   "execution_count": 29,
   "id": "b1daf1fa-25e8-4d38-ac72-5ba5cf50b9a2",
   "metadata": {
    "tags": []
   },
   "outputs": [
    {
     "name": "stdout",
     "output_type": "stream",
     "text": [
      "(604, 9) (876, 9)\n",
      "0    0.725166\n",
      "1    0.274834\n",
      "Name: Risk, dtype: float64\n",
      "0    0.5\n",
      "1    0.5\n",
      "Name: Risk, dtype: float64\n"
     ]
    }
   ],
   "source": [
    "print(X_train.shape, X_border2.shape)\n",
    "print(y_train.value_counts(normalize=True))\n",
    "print(y_border2.value_counts(normalize=True))"
   ]
  },
  {
   "cell_type": "markdown",
   "id": "fffa4fc0-e6f8-4a8d-9995-018c810139a8",
   "metadata": {
    "tags": []
   },
   "source": [
    "## 2. Models Training and Evaluation\n",
    "---"
   ]
  },
  {
   "cell_type": "markdown",
   "id": "d9ac139d-70a8-4e8a-ab4f-964edec3f2b2",
   "metadata": {
    "tags": []
   },
   "source": [
    "### Model - Gradient Boosting Classifier"
   ]
  },
  {
   "cell_type": "code",
   "execution_count": 10,
   "id": "1f7170f6-099d-4381-8b2c-26ea2026c726",
   "metadata": {
    "tags": []
   },
   "outputs": [],
   "source": [
    "from scipy import stats\n",
    "from sklearn.model_selection import RandomizedSearchCV"
   ]
  },
  {
   "cell_type": "markdown",
   "id": "7fa79bab-e025-41a1-8679-fe9b3a133bb2",
   "metadata": {},
   "source": [
    "We will perform a Randomized Search with Cross Validation:"
   ]
  },
  {
   "cell_type": "code",
   "execution_count": 30,
   "id": "1cba40f1-eca5-4364-8951-7356d2ac336a",
   "metadata": {
    "tags": []
   },
   "outputs": [],
   "source": [
    "gbm = GradientBoostingClassifier(random_state=42)\n",
    "\n",
    "param_grid = dict(                                               \n",
    "                  n_estimators=stats.randint(10, 200),\n",
    "                  min_samples_split=stats.uniform(0, 1),\n",
    "                  learning_rate=stats.loguniform(0.0001, 0.1),\n",
    "                  max_depth=stats.randint(1, 5),\n",
    "                  loss=('deviance', 'exponential'),\n",
    "                  )\n",
    "\n",
    "search = RandomizedSearchCV(gbm, \n",
    "                            param_grid, \n",
    "                            scoring='roc_auc', \n",
    "                            cv=5,                \n",
    "                            n_iter = 60,         \n",
    "                            random_state=42,\n",
    "                            refit=True,         \n",
    "                            )"
   ]
  },
  {
   "cell_type": "markdown",
   "id": "7594517e-73c5-4896-9361-dd38bfd06663",
   "metadata": {},
   "source": [
    "We define a function to perform Random Search, run the model with the best hyperparameters and print the Confusion Matrix and Classification Report:"
   ]
  },
  {
   "cell_type": "code",
   "execution_count": 12,
   "id": "f4329bcb-a69d-4a49-867f-6133ec4dac41",
   "metadata": {
    "tags": []
   },
   "outputs": [],
   "source": [
    "def run_model(x_data, y_data):    \n",
    "\n",
    "    search.fit(x_data, y_data)\n",
    "\n",
    "    print(search.best_params_)\n",
    "    print(search.best_score_)\n",
    "\n",
    "    X_train_prob = search.predict_proba(x_data)[:,1]     \n",
    "    X_test_prob = search.predict_proba(X_test)[:,1]\n",
    "\n",
    "    print('Train roc_auc: ', roc_auc_score(y_data, X_train_prob))\n",
    "    print('Test roc_auc: ', roc_auc_score(y_test, X_test_prob))\n",
    "\n",
    "    X_train_pred = search.predict(x_data)              \n",
    "    X_test_pred = search.predict(X_test)\n",
    "\n",
    "    plot_cm(X_test_pred)\n",
    "\n",
    "    class_report(X_test_pred)"
   ]
  },
  {
   "cell_type": "markdown",
   "id": "4f64a3e2-4cd7-4ed5-b554-702aeaa7d402",
   "metadata": {},
   "source": [
    "Original Dataset:"
   ]
  },
  {
   "cell_type": "code",
   "execution_count": 13,
   "id": "3e8130d8-e5e5-4313-bc6e-a6642d904e36",
   "metadata": {
    "tags": []
   },
   "outputs": [
    {
     "name": "stdout",
     "output_type": "stream",
     "text": [
      "{'learning_rate': 0.08918040138190564, 'loss': 'exponential', 'max_depth': 3, 'min_samples_split': 0.8164318732193839, 'n_estimators': 153}\n",
      "0.7503702663738621\n",
      "Train roc_auc:  0.854328271992078\n",
      "Test roc_auc:  0.7493461203138623\n"
     ]
    },
    {
     "data": {
      "image/png": "[encoded data removed]",
      "text/plain": [
       "<Figure size 400x300 with 2 Axes>"
      ]
     },
     "metadata": {},
     "output_type": "display_data"
    },
    {
     "name": "stdout",
     "output_type": "stream",
     "text": [
      "              precision    recall  f1-score   support\n",
      "\n",
      "    not risk       0.81      0.90      0.85       185\n",
      "        risk       0.56      0.37      0.45        62\n",
      "\n",
      "    accuracy                           0.77       247\n",
      "   macro avg       0.69      0.64      0.65       247\n",
      "weighted avg       0.75      0.77      0.75       247\n",
      "\n"
     ]
    }
   ],
   "source": [
    "run_model(X_train, y_train)"
   ]
  },
  {
   "cell_type": "markdown",
   "id": "6636d604-7979-4dbf-91a1-078d23678226",
   "metadata": {},
   "source": [
    "Random Oversampled Dataset:"
   ]
  },
  {
   "cell_type": "code",
   "execution_count": 73,
   "id": "a7ba6815-a3d9-4233-be88-8cf035af394d",
   "metadata": {
    "tags": []
   },
   "outputs": [
    {
     "name": "stdout",
     "output_type": "stream",
     "text": [
      "{'learning_rate': 0.020736445177905023, 'loss': 'exponential', 'max_depth': 4, 'min_samples_split': 0.005522117123602399, 'n_estimators': 148}\n",
      "0.8620326006934549\n",
      "Train roc_auc:  0.9492764954859155\n",
      "Test roc_auc:  0.751438535309503\n"
     ]
    },
    {
     "data": {
      "image/png": "[encoded data removed]",
      "text/plain": [
       "<Figure size 400x300 with 2 Axes>"
      ]
     },
     "metadata": {},
     "output_type": "display_data"
    },
    {
     "name": "stdout",
     "output_type": "stream",
     "text": [
      "              precision    recall  f1-score   support\n",
      "\n",
      "    not risk       0.83      0.76      0.79       185\n",
      "        risk       0.43      0.53      0.47        62\n",
      "\n",
      "    accuracy                           0.70       247\n",
      "   macro avg       0.63      0.65      0.63       247\n",
      "weighted avg       0.73      0.70      0.71       247\n",
      "\n"
     ]
    }
   ],
   "source": [
    "run_model(X_random, y_random)"
   ]
  },
  {
   "cell_type": "markdown",
   "id": "9829c66a-f084-48e8-a6d3-51e1ce39410e",
   "metadata": {},
   "source": [
    "Smote Dataset:"
   ]
  },
  {
   "cell_type": "code",
   "execution_count": 75,
   "id": "7460ca8f-344a-4b2e-ba18-1df7f4ba16d1",
   "metadata": {
    "tags": []
   },
   "outputs": [
    {
     "name": "stdout",
     "output_type": "stream",
     "text": [
      "{'learning_rate': 0.020736445177905023, 'loss': 'exponential', 'max_depth': 4, 'min_samples_split': 0.005522117123602399, 'n_estimators': 148}\n",
      "0.8282060416072955\n",
      "Train roc_auc:  0.9343372740351535\n",
      "Test roc_auc:  0.7342632955536181\n"
     ]
    },
    {
     "data": {
      "image/png": "[encoded data removed]",
      "text/plain": [
       "<Figure size 400x300 with 2 Axes>"
      ]
     },
     "metadata": {},
     "output_type": "display_data"
    },
    {
     "name": "stdout",
     "output_type": "stream",
     "text": [
      "              precision    recall  f1-score   support\n",
      "\n",
      "    not risk       0.85      0.71      0.78       185\n",
      "        risk       0.42      0.63      0.51        62\n",
      "\n",
      "    accuracy                           0.69       247\n",
      "   macro avg       0.64      0.67      0.64       247\n",
      "weighted avg       0.74      0.69      0.71       247\n",
      "\n"
     ]
    }
   ],
   "source": [
    "run_model(X_smote, y_smote)"
   ]
  },
  {
   "cell_type": "markdown",
   "id": "a12fb6ec-6bb5-4e78-ad7e-3c9b7d0aaceb",
   "metadata": {},
   "source": [
    "Adasyn Dataset:"
   ]
  },
  {
   "cell_type": "code",
   "execution_count": 76,
   "id": "dae063f2-617e-4749-99b2-512bfe55c032",
   "metadata": {
    "tags": []
   },
   "outputs": [
    {
     "name": "stdout",
     "output_type": "stream",
     "text": [
      "{'learning_rate': 0.020736445177905023, 'loss': 'exponential', 'max_depth': 4, 'min_samples_split': 0.005522117123602399, 'n_estimators': 148}\n",
      "0.8123215432261963\n",
      "Train roc_auc:  0.9330857677284481\n",
      "Test roc_auc:  0.7349607672188317\n"
     ]
    },
    {
     "data": {
      "image/png": "[encoded data removed]",
      "text/plain": [
       "<Figure size 400x300 with 2 Axes>"
      ]
     },
     "metadata": {},
     "output_type": "display_data"
    },
    {
     "name": "stdout",
     "output_type": "stream",
     "text": [
      "              precision    recall  f1-score   support\n",
      "\n",
      "    not risk       0.86      0.70      0.77       185\n",
      "        risk       0.42      0.66      0.52        62\n",
      "\n",
      "    accuracy                           0.69       247\n",
      "   macro avg       0.64      0.68      0.64       247\n",
      "weighted avg       0.75      0.69      0.71       247\n",
      "\n"
     ]
    }
   ],
   "source": [
    "run_model(X_adasyn, y_adasyn) "
   ]
  },
  {
   "cell_type": "markdown",
   "id": "4e52259a-01cb-43b0-adb3-a3d130b3964e",
   "metadata": {},
   "source": [
    "Border1 Dataset:"
   ]
  },
  {
   "cell_type": "code",
   "execution_count": 77,
   "id": "6cce01e0-211d-4be7-b7e8-d14f1157047f",
   "metadata": {
    "tags": []
   },
   "outputs": [
    {
     "name": "stdout",
     "output_type": "stream",
     "text": [
      "{'learning_rate': 0.09744534538859262, 'loss': 'exponential', 'max_depth': 4, 'min_samples_split': 0.5582934536070976, 'n_estimators': 169}\n",
      "0.8320503229790065\n",
      "Train roc_auc:  0.9197681449511063\n",
      "Test roc_auc:  0.7149956408020923\n"
     ]
    },
    {
     "data": {
      "image/png": "[encoded data removed]",
      "text/plain": [
       "<Figure size 400x300 with 2 Axes>"
      ]
     },
     "metadata": {},
     "output_type": "display_data"
    },
    {
     "name": "stdout",
     "output_type": "stream",
     "text": [
      "              precision    recall  f1-score   support\n",
      "\n",
      "    not risk       0.85      0.73      0.79       185\n",
      "        risk       0.44      0.63      0.52        62\n",
      "\n",
      "    accuracy                           0.70       247\n",
      "   macro avg       0.65      0.68      0.65       247\n",
      "weighted avg       0.75      0.70      0.72       247\n",
      "\n"
     ]
    }
   ],
   "source": [
    "run_model(X_border1, y_border1)"
   ]
  },
  {
   "cell_type": "markdown",
   "id": "96ef5d8b-5663-4eee-a246-b8cfce082629",
   "metadata": {},
   "source": [
    "Border2 Dataset:"
   ]
  },
  {
   "cell_type": "code",
   "execution_count": 78,
   "id": "a1ad0e3f-285b-43f2-97ff-480493a0d1c5",
   "metadata": {
    "tags": []
   },
   "outputs": [
    {
     "name": "stdout",
     "output_type": "stream",
     "text": [
      "{'learning_rate': 0.020736445177905023, 'loss': 'exponential', 'max_depth': 4, 'min_samples_split': 0.005522117123602399, 'n_estimators': 148}\n",
      "0.8245366082454639\n",
      "Train roc_auc:  0.9306806572006422\n",
      "Test roc_auc:  0.7247602441150827\n"
     ]
    },
    {
     "data": {
      "image/png": "[encoded data removed]",
      "text/plain": [
       "<Figure size 400x300 with 2 Axes>"
      ]
     },
     "metadata": {},
     "output_type": "display_data"
    },
    {
     "name": "stdout",
     "output_type": "stream",
     "text": [
      "              precision    recall  f1-score   support\n",
      "\n",
      "    not risk       0.86      0.69      0.77       185\n",
      "        risk       0.42      0.68      0.52        62\n",
      "\n",
      "    accuracy                           0.68       247\n",
      "   macro avg       0.64      0.68      0.64       247\n",
      "weighted avg       0.75      0.68      0.70       247\n",
      "\n"
     ]
    }
   ],
   "source": [
    "run_model(X_border2, y_border2)"
   ]
  },
  {
   "cell_type": "markdown",
   "id": "0a970cf9-1c3d-4d0d-9339-5f8d6c06813c",
   "metadata": {},
   "source": [
    "The models run on the Adasyn sampled Dataset and on Border2 sampled Dataset showed the best results."
   ]
  }
 ],
 "metadata": {
  "kernelspec": {
   "display_name": "Python 3 (ipykernel)",
   "language": "python",
   "name": "python3"
  },
  "language_info": {
   "codemirror_mode": {
    "name": "ipython",
    "version": 3
   },
   "file_extension": ".py",
   "mimetype": "text/x-python",
   "name": "python",
   "nbconvert_exporter": "python",
   "pygments_lexer": "ipython3",
   "version": "3.9.16"
  }
 },
 "nbformat": 4,
 "nbformat_minor": 5
}
